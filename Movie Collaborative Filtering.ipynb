{
  "cells": [
    {
      "metadata": {
        "_cell_guid": "da447453-96e3-48fe-93cd-b9195433add6",
        "_uuid": "b63091dc0b9d04f19ab8861754a83b79c1789e96"
      },
      "cell_type": "markdown",
      "source": "Movie Recommendation System: Collaborative Filtering"
    },
    {
      "metadata": {
        "_cell_guid": "78fea705-f9ad-4a81-aafd-8b7b624110d1",
        "_uuid": "1c291fe3725c706e0003f01f0102abb9709f25fc",
        "collapsed": true,
        "trusted": true
      },
      "cell_type": "code",
      "source": "import pandas as pd\nimport numpy as np\nfrom surprise import Reader, Dataset, SVD, evaluate\nimport warnings; warnings.simplefilter('ignore')",
      "execution_count": 1,
      "outputs": []
    },
    {
      "metadata": {
        "_cell_guid": "0356d2a0-d8b2-4234-af78-bd51eaa3a390",
        "_uuid": "e0d62612bc9b9e9561afdc48fd1e75a9b0c82337",
        "trusted": true
      },
      "cell_type": "code",
      "source": "md=pd.read_csv('../input/movies_metadata.csv')\nmd.head()",
      "execution_count": 2,
      "outputs": [
        {
          "output_type": "execute_result",
          "execution_count": 2,
          "data": {
            "text/plain": "   adult                              belongs_to_collection    budget  \\\n0  False  {'id': 10194, 'name': 'Toy Story Collection', ...  30000000   \n1  False                                                NaN  65000000   \n2  False  {'id': 119050, 'name': 'Grumpy Old Men Collect...         0   \n3  False                                                NaN  16000000   \n4  False  {'id': 96871, 'name': 'Father of the Bride Col...         0   \n\n                                              genres  \\\n0  [{'id': 16, 'name': 'Animation'}, {'id': 35, '...   \n1  [{'id': 12, 'name': 'Adventure'}, {'id': 14, '...   \n2  [{'id': 10749, 'name': 'Romance'}, {'id': 35, ...   \n3  [{'id': 35, 'name': 'Comedy'}, {'id': 18, 'nam...   \n4                     [{'id': 35, 'name': 'Comedy'}]   \n\n                               homepage     id    imdb_id original_language  \\\n0  http://toystory.disney.com/toy-story    862  tt0114709                en   \n1                                   NaN   8844  tt0113497                en   \n2                                   NaN  15602  tt0113228                en   \n3                                   NaN  31357  tt0114885                en   \n4                                   NaN  11862  tt0113041                en   \n\n                original_title  \\\n0                    Toy Story   \n1                      Jumanji   \n2             Grumpier Old Men   \n3            Waiting to Exhale   \n4  Father of the Bride Part II   \n\n                                            overview    ...     release_date  \\\n0  Led by Woody, Andy's toys live happily in his ...    ...       1995-10-30   \n1  When siblings Judy and Peter discover an encha...    ...       1995-12-15   \n2  A family wedding reignites the ancient feud be...    ...       1995-12-22   \n3  Cheated on, mistreated and stepped on, the wom...    ...       1995-12-22   \n4  Just when George Banks has recovered from his ...    ...       1995-02-10   \n\n       revenue runtime                                   spoken_languages  \\\n0  373554033.0    81.0           [{'iso_639_1': 'en', 'name': 'English'}]   \n1  262797249.0   104.0  [{'iso_639_1': 'en', 'name': 'English'}, {'iso...   \n2          0.0   101.0           [{'iso_639_1': 'en', 'name': 'English'}]   \n3   81452156.0   127.0           [{'iso_639_1': 'en', 'name': 'English'}]   \n4   76578911.0   106.0           [{'iso_639_1': 'en', 'name': 'English'}]   \n\n     status                                            tagline  \\\n0  Released                                                NaN   \n1  Released          Roll the dice and unleash the excitement!   \n2  Released  Still Yelling. Still Fighting. Still Ready for...   \n3  Released  Friends are the people who let you be yourself...   \n4  Released  Just When His World Is Back To Normal... He's ...   \n\n                         title  video vote_average vote_count  \n0                    Toy Story  False          7.7     5415.0  \n1                      Jumanji  False          6.9     2413.0  \n2             Grumpier Old Men  False          6.5       92.0  \n3            Waiting to Exhale  False          6.1       34.0  \n4  Father of the Bride Part II  False          5.7      173.0  \n\n[5 rows x 24 columns]",
            "text/html": "<div>\n<style>\n    .dataframe thead tr:only-child th {\n        text-align: right;\n    }\n\n    .dataframe thead th {\n        text-align: left;\n    }\n\n    .dataframe tbody tr th {\n        vertical-align: top;\n    }\n</style>\n<table border=\"1\" class=\"dataframe\">\n  <thead>\n    <tr style=\"text-align: right;\">\n      <th></th>\n      <th>adult</th>\n      <th>belongs_to_collection</th>\n      <th>budget</th>\n      <th>genres</th>\n      <th>homepage</th>\n      <th>id</th>\n      <th>imdb_id</th>\n      <th>original_language</th>\n      <th>original_title</th>\n      <th>overview</th>\n      <th>...</th>\n      <th>release_date</th>\n      <th>revenue</th>\n      <th>runtime</th>\n      <th>spoken_languages</th>\n      <th>status</th>\n      <th>tagline</th>\n      <th>title</th>\n      <th>video</th>\n      <th>vote_average</th>\n      <th>vote_count</th>\n    </tr>\n  </thead>\n  <tbody>\n    <tr>\n      <th>0</th>\n      <td>False</td>\n      <td>{'id': 10194, 'name': 'Toy Story Collection', ...</td>\n      <td>30000000</td>\n      <td>[{'id': 16, 'name': 'Animation'}, {'id': 35, '...</td>\n      <td>http://toystory.disney.com/toy-story</td>\n      <td>862</td>\n      <td>tt0114709</td>\n      <td>en</td>\n      <td>Toy Story</td>\n      <td>Led by Woody, Andy's toys live happily in his ...</td>\n      <td>...</td>\n      <td>1995-10-30</td>\n      <td>373554033.0</td>\n      <td>81.0</td>\n      <td>[{'iso_639_1': 'en', 'name': 'English'}]</td>\n      <td>Released</td>\n      <td>NaN</td>\n      <td>Toy Story</td>\n      <td>False</td>\n      <td>7.7</td>\n      <td>5415.0</td>\n    </tr>\n    <tr>\n      <th>1</th>\n      <td>False</td>\n      <td>NaN</td>\n      <td>65000000</td>\n      <td>[{'id': 12, 'name': 'Adventure'}, {'id': 14, '...</td>\n      <td>NaN</td>\n      <td>8844</td>\n      <td>tt0113497</td>\n      <td>en</td>\n      <td>Jumanji</td>\n      <td>When siblings Judy and Peter discover an encha...</td>\n      <td>...</td>\n      <td>1995-12-15</td>\n      <td>262797249.0</td>\n      <td>104.0</td>\n      <td>[{'iso_639_1': 'en', 'name': 'English'}, {'iso...</td>\n      <td>Released</td>\n      <td>Roll the dice and unleash the excitement!</td>\n      <td>Jumanji</td>\n      <td>False</td>\n      <td>6.9</td>\n      <td>2413.0</td>\n    </tr>\n    <tr>\n      <th>2</th>\n      <td>False</td>\n      <td>{'id': 119050, 'name': 'Grumpy Old Men Collect...</td>\n      <td>0</td>\n      <td>[{'id': 10749, 'name': 'Romance'}, {'id': 35, ...</td>\n      <td>NaN</td>\n      <td>15602</td>\n      <td>tt0113228</td>\n      <td>en</td>\n      <td>Grumpier Old Men</td>\n      <td>A family wedding reignites the ancient feud be...</td>\n      <td>...</td>\n      <td>1995-12-22</td>\n      <td>0.0</td>\n      <td>101.0</td>\n      <td>[{'iso_639_1': 'en', 'name': 'English'}]</td>\n      <td>Released</td>\n      <td>Still Yelling. Still Fighting. Still Ready for...</td>\n      <td>Grumpier Old Men</td>\n      <td>False</td>\n      <td>6.5</td>\n      <td>92.0</td>\n    </tr>\n    <tr>\n      <th>3</th>\n      <td>False</td>\n      <td>NaN</td>\n      <td>16000000</td>\n      <td>[{'id': 35, 'name': 'Comedy'}, {'id': 18, 'nam...</td>\n      <td>NaN</td>\n      <td>31357</td>\n      <td>tt0114885</td>\n      <td>en</td>\n      <td>Waiting to Exhale</td>\n      <td>Cheated on, mistreated and stepped on, the wom...</td>\n      <td>...</td>\n      <td>1995-12-22</td>\n      <td>81452156.0</td>\n      <td>127.0</td>\n      <td>[{'iso_639_1': 'en', 'name': 'English'}]</td>\n      <td>Released</td>\n      <td>Friends are the people who let you be yourself...</td>\n      <td>Waiting to Exhale</td>\n      <td>False</td>\n      <td>6.1</td>\n      <td>34.0</td>\n    </tr>\n    <tr>\n      <th>4</th>\n      <td>False</td>\n      <td>{'id': 96871, 'name': 'Father of the Bride Col...</td>\n      <td>0</td>\n      <td>[{'id': 35, 'name': 'Comedy'}]</td>\n      <td>NaN</td>\n      <td>11862</td>\n      <td>tt0113041</td>\n      <td>en</td>\n      <td>Father of the Bride Part II</td>\n      <td>Just when George Banks has recovered from his ...</td>\n      <td>...</td>\n      <td>1995-02-10</td>\n      <td>76578911.0</td>\n      <td>106.0</td>\n      <td>[{'iso_639_1': 'en', 'name': 'English'}]</td>\n      <td>Released</td>\n      <td>Just When His World Is Back To Normal... He's ...</td>\n      <td>Father of the Bride Part II</td>\n      <td>False</td>\n      <td>5.7</td>\n      <td>173.0</td>\n    </tr>\n  </tbody>\n</table>\n<p>5 rows × 24 columns</p>\n</div>"
          },
          "metadata": {}
        }
      ]
    },
    {
      "metadata": {
        "_cell_guid": "f933a861-409a-4df7-98f1-7960a2a3874b",
        "_uuid": "d4df4c2158595611f2ea7ad4b16f71900e529ea8",
        "collapsed": true,
        "trusted": true
      },
      "cell_type": "code",
      "source": "md['genres']=md['genres'].fillna('[]').apply(literal_eval).apply(lambda x: [i['name'] for i in x] if isinstance(x, list) else [])",
      "execution_count": 3,
      "outputs": []
    },
    {
      "metadata": {
        "_cell_guid": "de5d2a9a-9d67-4309-9256-844756318bd0",
        "_uuid": "1e732487caba09d9543f3da49cbe7ff5092e2675",
        "trusted": true
      },
      "cell_type": "code",
      "source": "vote_counts=md[md['vote_count'].notnull()]['vote_count'].astype('int')\nvote_averages=md[md['vote_average'].notnull()]['vote_average'].astype('int')\nvote_mean=vote_averages.mean()\nvote_mean\n#C=VOTE_MEAN",
      "execution_count": 5,
      "outputs": [
        {
          "output_type": "execute_result",
          "execution_count": 5,
          "data": {
            "text/plain": "5.244896612406511"
          },
          "metadata": {}
        }
      ]
    },
    {
      "metadata": {
        "_cell_guid": "f2a3dff7-6430-471b-bd83-589779ab52b0",
        "_uuid": "23c2e113380f1bad9205ab2d0f8c372b0c246e79",
        "trusted": true
      },
      "cell_type": "code",
      "source": "vote_95= vote_counts.quantile(0.95)\nvote_95\n#vote_95=m",
      "execution_count": 6,
      "outputs": [
        {
          "output_type": "execute_result",
          "execution_count": 6,
          "data": {
            "text/plain": "434.0"
          },
          "metadata": {}
        }
      ]
    },
    {
      "metadata": {
        "_cell_guid": "93f480df-6e7b-427c-bbc0-906fd41640b0",
        "_uuid": "dbb8261dedb84e4a8ea8bed843c9de3ad9f3859d",
        "collapsed": true,
        "trusted": true
      },
      "cell_type": "code",
      "source": "md['year']=pd.to_datetime(md['release_date'], errors='coerce').apply(lambda x: str(x).split('-')[0] if x != np.nan else np.nan)",
      "execution_count": 7,
      "outputs": []
    },
    {
      "metadata": {
        "_cell_guid": "e7e91af4-7ff5-4553-bfbb-b9339096397e",
        "_uuid": "dcb30bee69ef1a6ead2c745565e5e7bfd5314d7a",
        "trusted": true
      },
      "cell_type": "code",
      "source": "# qualified movies: vote>434\nqualified=md[(md['vote_count']>=vote_95)&(md['vote_count'].notnull())&(md['vote_average'].notnull())][['title', 'year', 'vote_count', 'vote_average', 'popularity', 'genres']]\nqualified['vote_count']=qualified['vote_count'].astype('int')\nqualified['vote_average']=qualified['vote_average'].astype('int')\nqualified.head()",
      "execution_count": 10,
      "outputs": [
        {
          "output_type": "execute_result",
          "execution_count": 10,
          "data": {
            "text/plain": "        title  year  vote_count  vote_average popularity  \\\n0   Toy Story  1995        5415             7    21.9469   \n1     Jumanji  1995        2413             6    17.0155   \n5        Heat  1995        1886             7    17.9249   \n9   GoldenEye  1995        1194             6     14.686   \n15     Casino  1995        1343             7    10.1374   \n\n                              genres  \n0        [Animation, Comedy, Family]  \n1       [Adventure, Fantasy, Family]  \n5   [Action, Crime, Drama, Thriller]  \n9      [Adventure, Action, Thriller]  \n15                    [Drama, Crime]  ",
            "text/html": "<div>\n<style>\n    .dataframe thead tr:only-child th {\n        text-align: right;\n    }\n\n    .dataframe thead th {\n        text-align: left;\n    }\n\n    .dataframe tbody tr th {\n        vertical-align: top;\n    }\n</style>\n<table border=\"1\" class=\"dataframe\">\n  <thead>\n    <tr style=\"text-align: right;\">\n      <th></th>\n      <th>title</th>\n      <th>year</th>\n      <th>vote_count</th>\n      <th>vote_average</th>\n      <th>popularity</th>\n      <th>genres</th>\n    </tr>\n  </thead>\n  <tbody>\n    <tr>\n      <th>0</th>\n      <td>Toy Story</td>\n      <td>1995</td>\n      <td>5415</td>\n      <td>7</td>\n      <td>21.9469</td>\n      <td>[Animation, Comedy, Family]</td>\n    </tr>\n    <tr>\n      <th>1</th>\n      <td>Jumanji</td>\n      <td>1995</td>\n      <td>2413</td>\n      <td>6</td>\n      <td>17.0155</td>\n      <td>[Adventure, Fantasy, Family]</td>\n    </tr>\n    <tr>\n      <th>5</th>\n      <td>Heat</td>\n      <td>1995</td>\n      <td>1886</td>\n      <td>7</td>\n      <td>17.9249</td>\n      <td>[Action, Crime, Drama, Thriller]</td>\n    </tr>\n    <tr>\n      <th>9</th>\n      <td>GoldenEye</td>\n      <td>1995</td>\n      <td>1194</td>\n      <td>6</td>\n      <td>14.686</td>\n      <td>[Adventure, Action, Thriller]</td>\n    </tr>\n    <tr>\n      <th>15</th>\n      <td>Casino</td>\n      <td>1995</td>\n      <td>1343</td>\n      <td>7</td>\n      <td>10.1374</td>\n      <td>[Drama, Crime]</td>\n    </tr>\n  </tbody>\n</table>\n</div>"
          },
          "metadata": {}
        }
      ]
    },
    {
      "metadata": {
        "_cell_guid": "db959c40-7618-4755-a05a-5347f9460929",
        "_uuid": "6414e1aa7ed8cb4184ec451f02a18cd187e5345e",
        "collapsed": true,
        "trusted": true
      },
      "cell_type": "code",
      "source": "# calculate weighted rating\ndef weighted_rating(x):\n    v_c=x['vote_count']\n    v_r=x['vote_average']\n    return (v_c/(v_c+vote_95)*v_r) + (vote_95/(vote_95+v_c)*vote_mean)",
      "execution_count": 11,
      "outputs": []
    },
    {
      "metadata": {
        "_cell_guid": "0f5e4384-51be-41df-a023-12a13e77d66c",
        "_uuid": "78ec5052b0e89ae51a834aa3a305cf55b6849f42",
        "collapsed": true,
        "trusted": true
      },
      "cell_type": "code",
      "source": "qualified['wr']=qualified.apply(weighted_rating, axis=1)",
      "execution_count": 12,
      "outputs": []
    },
    {
      "metadata": {
        "_cell_guid": "ccbd8eca-cbfe-4843-9885-de11976f117c",
        "_uuid": "ed0ac7c8483f904d4f5ec0d554096d4782fa8bcf",
        "collapsed": true,
        "trusted": true
      },
      "cell_type": "code",
      "source": "qualified=qualified.sort_values('wr', ascending=False).head(250)",
      "execution_count": 14,
      "outputs": []
    },
    {
      "metadata": {
        "_cell_guid": "0bca5b03-0835-4902-aaa1-beceb9d9d47f",
        "_uuid": "f7f6821b7e9aff099b81fcc425fd20109894b351",
        "trusted": true
      },
      "cell_type": "code",
      "source": "# top 10 movies\nqualified.head(10)\n# top 3 movies are Nolan's movies\n# adventure and science fiction are the most popular generes",
      "execution_count": 15,
      "outputs": [
        {
          "output_type": "execute_result",
          "execution_count": 15,
          "data": {
            "text/plain": "                                                   title  year  vote_count  \\\n15480                                          Inception  2010       14075   \n12481                                    The Dark Knight  2008       12269   \n22879                                       Interstellar  2014       11187   \n2843                                          Fight Club  1999        9678   \n4863   The Lord of the Rings: The Fellowship of the Ring  2001        8892   \n292                                         Pulp Fiction  1994        8670   \n314                             The Shawshank Redemption  1994        8358   \n7000       The Lord of the Rings: The Return of the King  2003        8226   \n351                                         Forrest Gump  1994        8147   \n5814               The Lord of the Rings: The Two Towers  2002        7641   \n256                                            Star Wars  1977        6778   \n1225                                  Back to the Future  1985        6239   \n834                                        The Godfather  1972        6024   \n1154                             The Empire Strikes Back  1980        5998   \n46                                                 Se7en  1995        5915   \n\n       vote_average popularity  \\\n15480             8    29.1081   \n12481             8    123.167   \n22879             8    32.2135   \n2843              8    63.8696   \n4863              8    32.0707   \n292               8     140.95   \n314               8    51.6454   \n7000              8    29.3244   \n351               8    48.3072   \n5814              8    29.4235   \n256               8    42.1497   \n1225              8    25.7785   \n834               8    41.1093   \n1154              8     19.471   \n46                8    18.4574   \n\n                                                  genres        wr  \n15480  [Action, Thriller, Science Fiction, Mystery, A...  7.917588  \n12481                   [Drama, Action, Crime, Thriller]  7.905871  \n22879                [Adventure, Drama, Science Fiction]  7.897107  \n2843                                             [Drama]  7.881753  \n4863                        [Adventure, Fantasy, Action]  7.871787  \n292                                    [Thriller, Crime]  7.868660  \n314                                       [Drama, Crime]  7.864000  \n7000                        [Adventure, Fantasy, Action]  7.861927  \n351                             [Comedy, Drama, Romance]  7.860656  \n5814                        [Adventure, Fantasy, Action]  7.851924  \n256                 [Adventure, Action, Science Fiction]  7.834205  \n1225        [Adventure, Comedy, Science Fiction, Family]  7.820813  \n834                                       [Drama, Crime]  7.814847  \n1154                [Adventure, Action, Science Fiction]  7.814099  \n46                            [Crime, Mystery, Thriller]  7.811669  ",
            "text/html": "<div>\n<style>\n    .dataframe thead tr:only-child th {\n        text-align: right;\n    }\n\n    .dataframe thead th {\n        text-align: left;\n    }\n\n    .dataframe tbody tr th {\n        vertical-align: top;\n    }\n</style>\n<table border=\"1\" class=\"dataframe\">\n  <thead>\n    <tr style=\"text-align: right;\">\n      <th></th>\n      <th>title</th>\n      <th>year</th>\n      <th>vote_count</th>\n      <th>vote_average</th>\n      <th>popularity</th>\n      <th>genres</th>\n      <th>wr</th>\n    </tr>\n  </thead>\n  <tbody>\n    <tr>\n      <th>15480</th>\n      <td>Inception</td>\n      <td>2010</td>\n      <td>14075</td>\n      <td>8</td>\n      <td>29.1081</td>\n      <td>[Action, Thriller, Science Fiction, Mystery, A...</td>\n      <td>7.917588</td>\n    </tr>\n    <tr>\n      <th>12481</th>\n      <td>The Dark Knight</td>\n      <td>2008</td>\n      <td>12269</td>\n      <td>8</td>\n      <td>123.167</td>\n      <td>[Drama, Action, Crime, Thriller]</td>\n      <td>7.905871</td>\n    </tr>\n    <tr>\n      <th>22879</th>\n      <td>Interstellar</td>\n      <td>2014</td>\n      <td>11187</td>\n      <td>8</td>\n      <td>32.2135</td>\n      <td>[Adventure, Drama, Science Fiction]</td>\n      <td>7.897107</td>\n    </tr>\n    <tr>\n      <th>2843</th>\n      <td>Fight Club</td>\n      <td>1999</td>\n      <td>9678</td>\n      <td>8</td>\n      <td>63.8696</td>\n      <td>[Drama]</td>\n      <td>7.881753</td>\n    </tr>\n    <tr>\n      <th>4863</th>\n      <td>The Lord of the Rings: The Fellowship of the Ring</td>\n      <td>2001</td>\n      <td>8892</td>\n      <td>8</td>\n      <td>32.0707</td>\n      <td>[Adventure, Fantasy, Action]</td>\n      <td>7.871787</td>\n    </tr>\n    <tr>\n      <th>292</th>\n      <td>Pulp Fiction</td>\n      <td>1994</td>\n      <td>8670</td>\n      <td>8</td>\n      <td>140.95</td>\n      <td>[Thriller, Crime]</td>\n      <td>7.868660</td>\n    </tr>\n    <tr>\n      <th>314</th>\n      <td>The Shawshank Redemption</td>\n      <td>1994</td>\n      <td>8358</td>\n      <td>8</td>\n      <td>51.6454</td>\n      <td>[Drama, Crime]</td>\n      <td>7.864000</td>\n    </tr>\n    <tr>\n      <th>7000</th>\n      <td>The Lord of the Rings: The Return of the King</td>\n      <td>2003</td>\n      <td>8226</td>\n      <td>8</td>\n      <td>29.3244</td>\n      <td>[Adventure, Fantasy, Action]</td>\n      <td>7.861927</td>\n    </tr>\n    <tr>\n      <th>351</th>\n      <td>Forrest Gump</td>\n      <td>1994</td>\n      <td>8147</td>\n      <td>8</td>\n      <td>48.3072</td>\n      <td>[Comedy, Drama, Romance]</td>\n      <td>7.860656</td>\n    </tr>\n    <tr>\n      <th>5814</th>\n      <td>The Lord of the Rings: The Two Towers</td>\n      <td>2002</td>\n      <td>7641</td>\n      <td>8</td>\n      <td>29.4235</td>\n      <td>[Adventure, Fantasy, Action]</td>\n      <td>7.851924</td>\n    </tr>\n    <tr>\n      <th>256</th>\n      <td>Star Wars</td>\n      <td>1977</td>\n      <td>6778</td>\n      <td>8</td>\n      <td>42.1497</td>\n      <td>[Adventure, Action, Science Fiction]</td>\n      <td>7.834205</td>\n    </tr>\n    <tr>\n      <th>1225</th>\n      <td>Back to the Future</td>\n      <td>1985</td>\n      <td>6239</td>\n      <td>8</td>\n      <td>25.7785</td>\n      <td>[Adventure, Comedy, Science Fiction, Family]</td>\n      <td>7.820813</td>\n    </tr>\n    <tr>\n      <th>834</th>\n      <td>The Godfather</td>\n      <td>1972</td>\n      <td>6024</td>\n      <td>8</td>\n      <td>41.1093</td>\n      <td>[Drama, Crime]</td>\n      <td>7.814847</td>\n    </tr>\n    <tr>\n      <th>1154</th>\n      <td>The Empire Strikes Back</td>\n      <td>1980</td>\n      <td>5998</td>\n      <td>8</td>\n      <td>19.471</td>\n      <td>[Adventure, Action, Science Fiction]</td>\n      <td>7.814099</td>\n    </tr>\n    <tr>\n      <th>46</th>\n      <td>Se7en</td>\n      <td>1995</td>\n      <td>5915</td>\n      <td>8</td>\n      <td>18.4574</td>\n      <td>[Crime, Mystery, Thriller]</td>\n      <td>7.811669</td>\n    </tr>\n  </tbody>\n</table>\n</div>"
          },
          "metadata": {}
        }
      ]
    },
    {
      "metadata": {
        "_cell_guid": "c6be871d-62d4-4ec4-abe4-6ca1b1c01fa0",
        "_uuid": "b59a35544efcd50e89e4bb1ea14bbfe32fc9bcd3",
        "collapsed": true,
        "trusted": true
      },
      "cell_type": "code",
      "source": "s=md.apply(lambda x: pd.Series(x['genres']),axis=1).stack().reset_index(level=1, drop=True)\ns.name='genre'\ngen_md=md.drop('genres', axis=1).join(s)\n# look at movies in each genere",
      "execution_count": 16,
      "outputs": []
    },
    {
      "metadata": {
        "_cell_guid": "759652cb-5b16-4951-995c-6a3bdbae0e4e",
        "_uuid": "1fdfea9cd4b046b11ff8f2ac4f2bea74fccb8a8b",
        "collapsed": true,
        "trusted": true
      },
      "cell_type": "code",
      "source": "# new percentile of 85%\ndef build_chart(genre,percentile=0.85):\n    df=gen_md[gen_md['genre']==genre]\n    vote_counts=df[df['vote_count'].notnull()]['vote_count'].astype('int')\n    vote_averages=df[df['vote_average'].notnull()]['vote_average'].astype('int')\n    v_mean=vote_averages.mean()\n    v_quant=vote_counts.quantile(percentile)\n    \n    qualified=df[(df['vote_count']>=v_quant)&(df['vote_count'].notnull())&(df['vote_average'].notnull())][['title', 'year', 'vote_count', 'vote_average', 'popularity']]\n    qualified['vote_count']=qualified['vote_count'].astype('int')\n    qualified['vote_average']=qualified['vote_average'].astype('int')\n    \n    qualified['wr']=qualified.apply(lambda x:(x['vote_count']/(x['vote_count']+v_quant)*x['vote_average'])+(v_quant/(v_quant+x['vote_count'])*v_mean), axis=1)\n    qualified=qualified.sort_values('wr',ascending=False).head(10)\n    \n    return qualified",
      "execution_count": 17,
      "outputs": []
    },
    {
      "metadata": {
        "_cell_guid": "af61da24-494b-48ac-b7b7-64ec0eaedaf8",
        "_uuid": "bf2816495a16de1bb84dc826fd33eee7e663f45d",
        "trusted": true
      },
      "cell_type": "code",
      "source": "# top 10 romamcne movie\nbuild_chart('Romance').head(10)",
      "execution_count": 18,
      "outputs": [
        {
          "output_type": "execute_result",
          "execution_count": 18,
          "data": {
            "text/plain": "                             title  year  vote_count  vote_average popularity  \\\n10309  Dilwale Dulhania Le Jayenge  1995         661             9     34.457   \n351                   Forrest Gump  1994        8147             8    48.3072   \n876                        Vertigo  1958        1162             8    18.2082   \n40251                   Your Name.  2016        1030             8  34.461252   \n883               Some Like It Hot  1959         835             8    11.8451   \n1132               Cinema Paradiso  1988         834             8     14.177   \n19901                     Paperman  2012         734             8    7.19863   \n37863                  Sing Street  2016         669             8  10.672862   \n882                  The Apartment  1960         498             8    11.9943   \n38718               The Handmaiden  2016         453             8  16.727405   \n\n             wr  \n10309  8.565285  \n351    7.971357  \n876    7.811667  \n40251  7.789489  \n883    7.745154  \n1132   7.744878  \n19901  7.713951  \n37863  7.689483  \n882    7.599317  \n38718  7.566166  ",
            "text/html": "<div>\n<style>\n    .dataframe thead tr:only-child th {\n        text-align: right;\n    }\n\n    .dataframe thead th {\n        text-align: left;\n    }\n\n    .dataframe tbody tr th {\n        vertical-align: top;\n    }\n</style>\n<table border=\"1\" class=\"dataframe\">\n  <thead>\n    <tr style=\"text-align: right;\">\n      <th></th>\n      <th>title</th>\n      <th>year</th>\n      <th>vote_count</th>\n      <th>vote_average</th>\n      <th>popularity</th>\n      <th>wr</th>\n    </tr>\n  </thead>\n  <tbody>\n    <tr>\n      <th>10309</th>\n      <td>Dilwale Dulhania Le Jayenge</td>\n      <td>1995</td>\n      <td>661</td>\n      <td>9</td>\n      <td>34.457</td>\n      <td>8.565285</td>\n    </tr>\n    <tr>\n      <th>351</th>\n      <td>Forrest Gump</td>\n      <td>1994</td>\n      <td>8147</td>\n      <td>8</td>\n      <td>48.3072</td>\n      <td>7.971357</td>\n    </tr>\n    <tr>\n      <th>876</th>\n      <td>Vertigo</td>\n      <td>1958</td>\n      <td>1162</td>\n      <td>8</td>\n      <td>18.2082</td>\n      <td>7.811667</td>\n    </tr>\n    <tr>\n      <th>40251</th>\n      <td>Your Name.</td>\n      <td>2016</td>\n      <td>1030</td>\n      <td>8</td>\n      <td>34.461252</td>\n      <td>7.789489</td>\n    </tr>\n    <tr>\n      <th>883</th>\n      <td>Some Like It Hot</td>\n      <td>1959</td>\n      <td>835</td>\n      <td>8</td>\n      <td>11.8451</td>\n      <td>7.745154</td>\n    </tr>\n    <tr>\n      <th>1132</th>\n      <td>Cinema Paradiso</td>\n      <td>1988</td>\n      <td>834</td>\n      <td>8</td>\n      <td>14.177</td>\n      <td>7.744878</td>\n    </tr>\n    <tr>\n      <th>19901</th>\n      <td>Paperman</td>\n      <td>2012</td>\n      <td>734</td>\n      <td>8</td>\n      <td>7.19863</td>\n      <td>7.713951</td>\n    </tr>\n    <tr>\n      <th>37863</th>\n      <td>Sing Street</td>\n      <td>2016</td>\n      <td>669</td>\n      <td>8</td>\n      <td>10.672862</td>\n      <td>7.689483</td>\n    </tr>\n    <tr>\n      <th>882</th>\n      <td>The Apartment</td>\n      <td>1960</td>\n      <td>498</td>\n      <td>8</td>\n      <td>11.9943</td>\n      <td>7.599317</td>\n    </tr>\n    <tr>\n      <th>38718</th>\n      <td>The Handmaiden</td>\n      <td>2016</td>\n      <td>453</td>\n      <td>8</td>\n      <td>16.727405</td>\n      <td>7.566166</td>\n    </tr>\n  </tbody>\n</table>\n</div>"
          },
          "metadata": {}
        }
      ]
    },
    {
      "metadata": {
        "_cell_guid": "632e75c9-0068-456a-82d5-8a8eb44e98df",
        "_uuid": "de715e5b70a605e3bd65ad50bbfa9b71aac1aef4",
        "collapsed": true,
        "trusted": true
      },
      "cell_type": "code",
      "source": "# Collaborative Filtering\nreader = Reader()",
      "execution_count": 19,
      "outputs": []
    },
    {
      "metadata": {
        "_cell_guid": "7b7a10d4-4f72-4c07-a514-ae5c2f0663a9",
        "_uuid": "18c484e823d3c4c1bbb91a5aa708e277c97cdaf1",
        "trusted": true
      },
      "cell_type": "code",
      "source": "ratings=pd.read_csv('../input/ratings_small.csv')\nratings.head()",
      "execution_count": 20,
      "outputs": [
        {
          "output_type": "execute_result",
          "execution_count": 20,
          "data": {
            "text/plain": "   userId  movieId  rating   timestamp\n0       1       31     2.5  1260759144\n1       1     1029     3.0  1260759179\n2       1     1061     3.0  1260759182\n3       1     1129     2.0  1260759185\n4       1     1172     4.0  1260759205",
            "text/html": "<div>\n<style>\n    .dataframe thead tr:only-child th {\n        text-align: right;\n    }\n\n    .dataframe thead th {\n        text-align: left;\n    }\n\n    .dataframe tbody tr th {\n        vertical-align: top;\n    }\n</style>\n<table border=\"1\" class=\"dataframe\">\n  <thead>\n    <tr style=\"text-align: right;\">\n      <th></th>\n      <th>userId</th>\n      <th>movieId</th>\n      <th>rating</th>\n      <th>timestamp</th>\n    </tr>\n  </thead>\n  <tbody>\n    <tr>\n      <th>0</th>\n      <td>1</td>\n      <td>31</td>\n      <td>2.5</td>\n      <td>1260759144</td>\n    </tr>\n    <tr>\n      <th>1</th>\n      <td>1</td>\n      <td>1029</td>\n      <td>3.0</td>\n      <td>1260759179</td>\n    </tr>\n    <tr>\n      <th>2</th>\n      <td>1</td>\n      <td>1061</td>\n      <td>3.0</td>\n      <td>1260759182</td>\n    </tr>\n    <tr>\n      <th>3</th>\n      <td>1</td>\n      <td>1129</td>\n      <td>2.0</td>\n      <td>1260759185</td>\n    </tr>\n    <tr>\n      <th>4</th>\n      <td>1</td>\n      <td>1172</td>\n      <td>4.0</td>\n      <td>1260759205</td>\n    </tr>\n  </tbody>\n</table>\n</div>"
          },
          "metadata": {}
        }
      ]
    },
    {
      "metadata": {
        "_cell_guid": "f2f755fd-c3ef-4095-add8-f88350cf1b36",
        "_uuid": "daa1711d353573b2dcf5145f1882397a2adcab27",
        "collapsed": true,
        "trusted": true
      },
      "cell_type": "code",
      "source": "data=Dataset.load_from_df(ratings[['userId', 'movieId', 'rating']], reader)\ndata.split(n_folds=5)",
      "execution_count": 21,
      "outputs": []
    },
    {
      "metadata": {
        "_cell_guid": "41ca3304-0fa5-401d-8c20-48b5c7cfb0d4",
        "_uuid": "edc105b14d9331d3adb44155c881670c5afacc41",
        "trusted": true
      },
      "cell_type": "code",
      "source": "svd=SVD()\nevaluate(svd, data, measures=['RMSE', 'MAE'])\n# small RMSE, good to use",
      "execution_count": 22,
      "outputs": [
        {
          "output_type": "stream",
          "text": "Evaluating RMSE, MAE of algorithm SVD.\n\n------------\nFold 1\nRMSE: 0.9013\nMAE:  0.6940\n------------\nFold 2\nRMSE: 0.9010\nMAE:  0.6909\n------------\nFold 3\nRMSE: 0.8948\nMAE:  0.6918\n------------\nFold 4\nRMSE: 0.8956\nMAE:  0.6880\n------------\nFold 5\nRMSE: 0.8920\nMAE:  0.6879\n------------\n------------\nMean RMSE: 0.8969\nMean MAE : 0.6905\n------------\n------------\n",
          "name": "stdout"
        },
        {
          "output_type": "execute_result",
          "execution_count": 22,
          "data": {
            "text/plain": "CaseInsensitiveDefaultDict(list,\n                           {'mae': [0.69399586120736068,\n                             0.69089174901306627,\n                             0.69175554282933915,\n                             0.6880047145913073,\n                             0.68787473009998401],\n                            'rmse': [0.90132681373440604,\n                             0.90095789758267808,\n                             0.89478058361166779,\n                             0.89563762461501817,\n                             0.89198962608545518]})"
          },
          "metadata": {}
        }
      ]
    },
    {
      "metadata": {
        "_cell_guid": "b39199fa-a02c-4509-852d-85020b36424d",
        "_uuid": "b588afd2750b0ba0793b953edac8c366222f8500",
        "trusted": true
      },
      "cell_type": "code",
      "source": "train=data.build_full_trainset()\nsvd.train(train)",
      "execution_count": 24,
      "outputs": [
        {
          "output_type": "execute_result",
          "execution_count": 24,
          "data": {
            "text/plain": "<surprise.prediction_algorithms.matrix_factorization.SVD at 0x7f039f59fa90>"
          },
          "metadata": {}
        }
      ]
    },
    {
      "metadata": {
        "_cell_guid": "b57dd617-c9aa-4928-a7de-c6b7036cc07b",
        "_uuid": "2307233c3213417079c46fcfaaf2638ef1f0059f",
        "trusted": true
      },
      "cell_type": "code",
      "source": "ratings[ratings['userId'] == 1]",
      "execution_count": 25,
      "outputs": [
        {
          "output_type": "execute_result",
          "execution_count": 25,
          "data": {
            "text/plain": "    userId  movieId  rating   timestamp\n0        1       31     2.5  1260759144\n1        1     1029     3.0  1260759179\n2        1     1061     3.0  1260759182\n3        1     1129     2.0  1260759185\n4        1     1172     4.0  1260759205\n5        1     1263     2.0  1260759151\n6        1     1287     2.0  1260759187\n7        1     1293     2.0  1260759148\n8        1     1339     3.5  1260759125\n9        1     1343     2.0  1260759131\n10       1     1371     2.5  1260759135\n11       1     1405     1.0  1260759203\n12       1     1953     4.0  1260759191\n13       1     2105     4.0  1260759139\n14       1     2150     3.0  1260759194\n15       1     2193     2.0  1260759198\n16       1     2294     2.0  1260759108\n17       1     2455     2.5  1260759113\n18       1     2968     1.0  1260759200\n19       1     3671     3.0  1260759117",
            "text/html": "<div>\n<style>\n    .dataframe thead tr:only-child th {\n        text-align: right;\n    }\n\n    .dataframe thead th {\n        text-align: left;\n    }\n\n    .dataframe tbody tr th {\n        vertical-align: top;\n    }\n</style>\n<table border=\"1\" class=\"dataframe\">\n  <thead>\n    <tr style=\"text-align: right;\">\n      <th></th>\n      <th>userId</th>\n      <th>movieId</th>\n      <th>rating</th>\n      <th>timestamp</th>\n    </tr>\n  </thead>\n  <tbody>\n    <tr>\n      <th>0</th>\n      <td>1</td>\n      <td>31</td>\n      <td>2.5</td>\n      <td>1260759144</td>\n    </tr>\n    <tr>\n      <th>1</th>\n      <td>1</td>\n      <td>1029</td>\n      <td>3.0</td>\n      <td>1260759179</td>\n    </tr>\n    <tr>\n      <th>2</th>\n      <td>1</td>\n      <td>1061</td>\n      <td>3.0</td>\n      <td>1260759182</td>\n    </tr>\n    <tr>\n      <th>3</th>\n      <td>1</td>\n      <td>1129</td>\n      <td>2.0</td>\n      <td>1260759185</td>\n    </tr>\n    <tr>\n      <th>4</th>\n      <td>1</td>\n      <td>1172</td>\n      <td>4.0</td>\n      <td>1260759205</td>\n    </tr>\n    <tr>\n      <th>5</th>\n      <td>1</td>\n      <td>1263</td>\n      <td>2.0</td>\n      <td>1260759151</td>\n    </tr>\n    <tr>\n      <th>6</th>\n      <td>1</td>\n      <td>1287</td>\n      <td>2.0</td>\n      <td>1260759187</td>\n    </tr>\n    <tr>\n      <th>7</th>\n      <td>1</td>\n      <td>1293</td>\n      <td>2.0</td>\n      <td>1260759148</td>\n    </tr>\n    <tr>\n      <th>8</th>\n      <td>1</td>\n      <td>1339</td>\n      <td>3.5</td>\n      <td>1260759125</td>\n    </tr>\n    <tr>\n      <th>9</th>\n      <td>1</td>\n      <td>1343</td>\n      <td>2.0</td>\n      <td>1260759131</td>\n    </tr>\n    <tr>\n      <th>10</th>\n      <td>1</td>\n      <td>1371</td>\n      <td>2.5</td>\n      <td>1260759135</td>\n    </tr>\n    <tr>\n      <th>11</th>\n      <td>1</td>\n      <td>1405</td>\n      <td>1.0</td>\n      <td>1260759203</td>\n    </tr>\n    <tr>\n      <th>12</th>\n      <td>1</td>\n      <td>1953</td>\n      <td>4.0</td>\n      <td>1260759191</td>\n    </tr>\n    <tr>\n      <th>13</th>\n      <td>1</td>\n      <td>2105</td>\n      <td>4.0</td>\n      <td>1260759139</td>\n    </tr>\n    <tr>\n      <th>14</th>\n      <td>1</td>\n      <td>2150</td>\n      <td>3.0</td>\n      <td>1260759194</td>\n    </tr>\n    <tr>\n      <th>15</th>\n      <td>1</td>\n      <td>2193</td>\n      <td>2.0</td>\n      <td>1260759198</td>\n    </tr>\n    <tr>\n      <th>16</th>\n      <td>1</td>\n      <td>2294</td>\n      <td>2.0</td>\n      <td>1260759108</td>\n    </tr>\n    <tr>\n      <th>17</th>\n      <td>1</td>\n      <td>2455</td>\n      <td>2.5</td>\n      <td>1260759113</td>\n    </tr>\n    <tr>\n      <th>18</th>\n      <td>1</td>\n      <td>2968</td>\n      <td>1.0</td>\n      <td>1260759200</td>\n    </tr>\n    <tr>\n      <th>19</th>\n      <td>1</td>\n      <td>3671</td>\n      <td>3.0</td>\n      <td>1260759117</td>\n    </tr>\n  </tbody>\n</table>\n</div>"
          },
          "metadata": {}
        }
      ]
    },
    {
      "metadata": {
        "_cell_guid": "e0701e4b-dde1-4791-b96e-faa4ae40df8e",
        "_uuid": "9c22aa0cc39595a4414d227a284f92b382eab67a",
        "trusted": true
      },
      "cell_type": "code",
      "source": "svd.predict(1, 302, 3)",
      "execution_count": 26,
      "outputs": [
        {
          "output_type": "execute_result",
          "execution_count": 26,
          "data": {
            "text/plain": "Prediction(uid=1, iid=302, r_ui=3, est=2.7421172046299596, details={'was_impossible': False})"
          },
          "metadata": {}
        }
      ]
    }
  ],
  "metadata": {
    "kernelspec": {
      "display_name": "Python 3",
      "language": "python",
      "name": "python3"
    },
    "language_info": {
      "name": "python",
      "version": "3.6.4",
      "mimetype": "text/x-python",
      "codemirror_mode": {
        "name": "ipython",
        "version": 3
      },
      "pygments_lexer": "ipython3",
      "nbconvert_exporter": "python",
      "file_extension": ".py"
    }
  },
  "nbformat": 4,
  "nbformat_minor": 1
}