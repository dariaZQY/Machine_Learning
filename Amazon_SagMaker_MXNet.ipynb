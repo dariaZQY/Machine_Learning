{
 "cells": [
  {
   "cell_type": "markdown",
   "metadata": {},
   "source": [
    "# Training and hosting SageMaker Models using the Apache MXNet Module API\n",
    "\n",
    "The **SageMaker Python SDK** makes it easy to train and deploy MXNet models. In this example, we train a simple neural network using the Apache MXNet [Module API](https://mxnet.incubator.apache.org/api/python/module.html) and the MNIST dataset. The MNIST dataset is widely used for handwritten digit classification, and consists of 70,000 labeled 28x28 pixel grayscale images of hand-written digits. The dataset is split into 60,000 training images and 10,000 test images. There are 10 classes (one for each of the 10 digits). The task at hand is to train a model using the 60,000 training images and subsequently test its classification accuracy on the 10,000 test images.\n"
   ]
  },
  {
   "cell_type": "code",
   "execution_count": 65,
   "metadata": {
    "collapsed": true
   },
   "outputs": [],
   "source": [
    "from sagemaker import get_execution_role\n",
    "\n",
    "role = get_execution_role()\n",
    "bucket='sagemaker-ml-hw8-zqy'"
   ]
  },
  {
   "cell_type": "markdown",
   "metadata": {},
   "source": [
    "## Data ingestion\n",
    "Next, we read the dataset from the existing repository into memory, for preprocessing prior to training. In this case we'll use the MNIST dataset, which contains 70K 28 x 28 pixel images of handwritten digits. For more details, please see here.\n",
    "\n",
    "This processing could be done in situ by Amazon Athena, Apache Spark in Amazon EMR, Amazon Redshift, etc., assuming the dataset is present in the appropriate location. Then, the next step would be to transfer the data to S3 for use in training. For small datasets, such as this one, reading into memory isn't onerous, though it would be for larger datasets."
   ]
  },
  {
   "cell_type": "code",
   "execution_count": 66,
   "metadata": {},
   "outputs": [
    {
     "name": "stdout",
     "output_type": "stream",
     "text": [
      "CPU times: user 872 ms, sys: 304 ms, total: 1.18 s\n",
      "Wall time: 3.13 s\n"
     ]
    }
   ],
   "source": [
    "%%time\n",
    "import pickle, gzip, numpy, urllib.request, json\n",
    "\n",
    "# Load the dataset\n",
    "urllib.request.urlretrieve(\"http://deeplearning.net/data/mnist/mnist.pkl.gz\", \"mnist.pkl.gz\")\n",
    "with gzip.open('mnist.pkl.gz', 'rb') as f:\n",
    "    train_set, valid_set, test_set = pickle.load(f, encoding='latin1')"
   ]
  },
  {
   "cell_type": "markdown",
   "metadata": {},
   "source": [
    "### Data inspection\n",
    "\n",
    "Once the dataset is imported, it's typical as part of the machine learning process to inspect the data, understand the distributions, and determine what type(s) of preprocessing might be needed. You can perform those tasks right here in the notebook. As an example, let's go ahead and look at one of the digits that is part of the dataset."
   ]
  },
  {
   "cell_type": "code",
   "execution_count": 67,
   "metadata": {},
   "outputs": [
    {
     "data": {
      "image/png": "[encoded data removed]",
      "text/plain": [
       "<matplotlib.figure.Figure at 0x7faba1d395c0>"
      ]
     },
     "metadata": {},
     "output_type": "display_data"
    }
   ],
   "source": [
    "%matplotlib inline\n",
    "import matplotlib.pyplot as plt\n",
    "plt.rcParams[\"figure.figsize\"] = (2,10)\n",
    "\n",
    "\n",
    "def show_digit(img, caption='', subplot=None):\n",
    "    if subplot==None:\n",
    "        _,(subplot)=plt.subplots(1,1)\n",
    "    imgr=img.reshape((28,28))\n",
    "    subplot.axis('off')\n",
    "    subplot.imshow(imgr, cmap='gray')\n",
    "    plt.title(caption)\n",
    "\n",
    "show_digit(train_set[0][30], 'This is a {}'.format(train_set[1][30]))"
   ]
  },
  {
   "cell_type": "markdown",
   "metadata": {},
   "source": [
    "### Setup\n",
    "\n",
    "First define a few variables that will be needed later in the example."
   ]
  },
  {
   "cell_type": "code",
   "execution_count": 68,
   "metadata": {
    "collapsed": true,
    "isConfigCell": true
   },
   "outputs": [],
   "source": [
    "from sagemaker import get_execution_role\n",
    "\n",
    "#Bucket location to save your custom code in tar.gz format.\n",
    "custom_code_upload_location = 's3://sagemaker-ml-hw8-zqy/customcode/mxnet'\n",
    "\n",
    "#Bucket location where results of model training are saved.\n",
    "model_artifacts_location = 's3://sagemaker-ml-hw8-zqy/artifacts'\n",
    "\n",
    "#IAM execution role that gives SageMaker access to resources in your AWS account.\n",
    "#We can use the SageMaker Python SDK to get the role from our notebook environment. \n",
    "role = get_execution_role()"
   ]
  },
  {
   "cell_type": "markdown",
   "metadata": {},
   "source": [
    "### The training script\n",
    "\n",
    "The ``mnist.py`` script provides all the code we need for training and hosting a SageMaker model. The script we will use is adaptated from Apache MXNet."
   ]
  },
  {
   "cell_type": "code",
   "execution_count": 69,
   "metadata": {},
   "outputs": [
    {
     "name": "stdout",
     "output_type": "stream",
     "text": [
      "import logging\r\n",
      "\r\n",
      "import gzip\r\n",
      "import mxnet as mx\r\n",
      "import numpy as np\r\n",
      "import os\r\n",
      "import struct\r\n",
      "\r\n",
      "\r\n",
      "def load_data(path):\r\n",
      "    with gzip.open(find_file(path, \"labels.gz\")) as flbl:\r\n",
      "        struct.unpack(\">II\", flbl.read(8))\r\n",
      "        labels = np.fromstring(flbl.read(), dtype=np.int8)\r\n",
      "    with gzip.open(find_file(path, \"images.gz\")) as fimg:\r\n",
      "        _, _, rows, cols = struct.unpack(\">IIII\", fimg.read(16))\r\n",
      "        images = np.fromstring(fimg.read(), dtype=np.uint8).reshape(len(labels), rows, cols)\r\n",
      "        images = images.reshape(images.shape[0], 1, 28, 28).astype(np.float32) / 255\r\n",
      "    return labels, images\r\n",
      "\r\n",
      "\r\n",
      "def find_file(root_path, file_name):\r\n",
      "    for root, dirs, files in os.walk(root_path):\r\n",
      "        if file_name in files:\r\n",
      "            return os.path.join(root, file_name)\r\n",
      "\r\n",
      "\r\n",
      "def build_graph():\r\n",
      "    data = mx.sym.var('data')\r\n",
      "    data = mx.sym.flatten(data=data)\r\n",
      "    fc1 = mx.sym.FullyConnected(data=data, num_hidden=128)\r\n",
      "    act1 = mx.sym.Activation(data=fc1, act_type=\"relu\")\r\n",
      "    fc2 = mx.sym.FullyConnected(data=act1, num_hidden=64)\r\n",
      "    act2 = mx.sym.Activation(data=fc2, act_type=\"relu\")\r\n",
      "    fc3 = mx.sym.FullyConnected(data=act2, num_hidden=10)\r\n",
      "    return mx.sym.SoftmaxOutput(data=fc3, name='softmax')\r\n",
      "\r\n",
      "\r\n",
      "def train(channel_input_dirs, hyperparameters, hosts, num_cpus, num_gpus, **kwargs):\r\n",
      "    (train_labels, train_images) = load_data(os.path.join(channel_input_dirs['train']))\r\n",
      "    (test_labels, test_images) = load_data(os.path.join(channel_input_dirs['test']))\r\n",
      "    batch_size = 100\r\n",
      "    train_iter = mx.io.NDArrayIter(train_images, train_labels, batch_size, shuffle=True)\r\n",
      "    val_iter = mx.io.NDArrayIter(test_images, test_labels, batch_size)\r\n",
      "    logging.getLogger().setLevel(logging.DEBUG)\r\n",
      "    kvstore = 'local' if len(hosts) == 1 else 'dist_sync'\r\n",
      "    mlp_model = mx.mod.Module(\r\n",
      "        symbol=build_graph(),\r\n",
      "        context=get_train_context(num_cpus, num_gpus))\r\n",
      "    mlp_model.fit(train_iter,\r\n",
      "                  eval_data=val_iter,\r\n",
      "                  kvstore=kvstore,\r\n",
      "                  optimizer='sgd',\r\n",
      "                  optimizer_params={'learning_rate': float(hyperparameters.get(\"learning_rate\", 0.1))},\r\n",
      "                  eval_metric='acc',\r\n",
      "                  batch_end_callback=mx.callback.Speedometer(batch_size, 100),\r\n",
      "                  num_epoch=25)\r\n",
      "    return mlp_model\r\n",
      "\r\n",
      "\r\n",
      "def get_train_context(num_cpus, num_gpus):\r\n",
      "    if num_gpus > 0:\r\n",
      "        return mx.gpu()\r\n",
      "    return mx.cpu()\r\n"
     ]
    }
   ],
   "source": [
    "!cat mnist.py"
   ]
  },
  {
   "cell_type": "markdown",
   "metadata": {},
   "source": [
    "### SageMaker's MXNet estimator class"
   ]
  },
  {
   "cell_type": "markdown",
   "metadata": {},
   "source": [
    "The SageMaker ```MXNet``` estimator allows us to run single machine or distributed training in SageMaker, using CPU or GPU-based instances.\n",
    "\n",
    "When we create the estimator, we pass in the filename of our training script, the name of our IAM execution role, and the S3 locations we defined in the setup section. We also provide a few other parameters. ``train_instance_count`` and ``train_instance_type`` determine the number and type of SageMaker instances that will be used for the training job. The ``hyperparameters`` parameter is a ``dict`` of values that will be passed to your training script -- you can see how to access these values in the ``mnist.py`` script above.\n",
    "\n",
    "For this example, we will choose one ``ml.m4.xlarge`` instance."
   ]
  },
  {
   "cell_type": "code",
   "execution_count": 70,
   "metadata": {
    "collapsed": true
   },
   "outputs": [],
   "source": [
    "from sagemaker.mxnet import MXNet\n",
    "\n",
    "mnist_estimator = MXNet(entry_point='mnist.py',\n",
    "                        role=role,\n",
    "                        output_path=model_artifacts_location,\n",
    "                        code_location=custom_code_upload_location,\n",
    "                        train_instance_count=1, \n",
    "                        train_instance_type='ml.m4.xlarge',\n",
    "                        hyperparameters={'learning_rate': 0.1})"
   ]
  },
  {
   "cell_type": "markdown",
   "metadata": {},
   "source": [
    "### Running the Training Job"
   ]
  },
  {
   "cell_type": "markdown",
   "metadata": {},
   "source": [
    "After we've constructed our MXNet object, we can fit it using data stored in S3. Below we run SageMaker training on two input channels: **train** and **test**.\n",
    "\n",
    "During training, SageMaker makes this data stored in S3 available in the local filesystem where the mnist script is running. The ```mnist.py``` script simply loads the train and test data from disk."
   ]
  },
  {
   "cell_type": "code",
   "execution_count": 72,
   "metadata": {
    "scrolled": true
   },
   "outputs": [
    {
     "name": "stderr",
     "output_type": "stream",
     "text": [
      "INFO:sagemaker:Creating training-job with name: sagemaker-mxnet-py2-cpu-2018-03-09-07-03-40-344\n"
     ]
    },
    {
     "name": "stdout",
     "output_type": "stream",
     "text": [
      "......................................................................\n",
      "\u001b[31mexecuting startup script (first run)\u001b[0m\n",
      "\u001b[31m2018-03-09 07:09:03,274 INFO - root - running container entrypoint\u001b[0m\n",
      "\u001b[31m2018-03-09 07:09:03,274 INFO - root - starting train task\u001b[0m\n",
      "\u001b[31m2018-03-09 07:09:04,769 INFO - mxnet_container.train - MXNetTrainingEnvironment: {'enable_cloudwatch_metrics': False, 'available_gpus': 0, 'channels': {u'test': {u'TrainingInputMode': u'File', u'RecordWrapperType': u'None', u'S3DistributionType': u'FullyReplicated'}, u'train': {u'TrainingInputMode': u'File', u'RecordWrapperType': u'None', u'S3DistributionType': u'FullyReplicated'}}, '_ps_verbose': 0, 'resource_config': {u'current_host': u'algo-1', u'hosts': [u'algo-1']}, 'user_script_name': u'mnist.py', 'input_config_dir': '/opt/ml/input/config', 'channel_dirs': {u'test': u'/opt/ml/input/data/test', u'train': u'/opt/ml/input/data/train'}, 'code_dir': '/opt/ml/code', 'output_data_dir': '/opt/ml/output/data/', 'output_dir': '/opt/ml/output', 'model_dir': '/opt/ml/model', 'hyperparameters': {u'sagemaker_program': u'mnist.py', u'learning_rate': 0.1, u'sagemaker_submit_directory': u's3://sagemaker-ml-hw8-zqy/customcode/mxnet/sagemaker-mxnet-py2-cpu-2018-03-09-07-03-40-344/source/sourcedir.tar.gz', u'sagemaker_region': u'us-east-1', u'sagemaker_enable_cloudwatch_metrics': False, u'sagemaker_job_name': u'sagemaker-mxnet-py2-cpu-2018-03-09-07-03-40-344', u'sagemaker_container_log_level': 20}, 'hosts': [u'algo-1'], '_scheduler_ip': '10.32.0.4', '_ps_port': 8000, 'user_script_archive': u's3://sagemaker-ml-hw8-zqy/customcode/mxnet/sagemaker-mxnet-py2-cpu-2018-03-09-07-03-40-344/source/sourcedir.tar.gz', '_scheduler_host': u'algo-1', 'sagemaker_region': u'us-east-1', 'input_dir': '/opt/ml/input', 'user_requirements_file': None, 'current_host': u'algo-1', 'container_log_level': 20, 'available_cpus': 4, 'base_dir': '/opt/ml'}\u001b[0m\n",
      "\u001b[31mDownloading s3://sagemaker-ml-hw8-zqy/customcode/mxnet/sagemaker-mxnet-py2-cpu-2018-03-09-07-03-40-344/source/sourcedir.tar.gz to /tmp/script.tar.gz\u001b[0m\n",
      "\u001b[31m2018-03-09 07:09:04,896 INFO - botocore.vendored.requests.packages.urllib3.connectionpool - Starting new HTTP connection (1): 169.254.170.2\u001b[0m\n",
      "\u001b[31m2018-03-09 07:09:05,012 INFO - botocore.vendored.requests.packages.urllib3.connectionpool - Starting new HTTPS connection (1): s3.amazonaws.com\u001b[0m\n",
      "\u001b[31m2018-03-09 07:09:05,129 INFO - mxnet_container.train - Starting distributed training task\u001b[0m\n",
      "\u001b[31m2018-03-09 07:09:06,664 INFO - root - Epoch[0] Batch [100]#011Speed: 29335.06 samples/sec#011accuracy=0.112871\u001b[0m\n",
      "\u001b[31m2018-03-09 07:09:06,957 INFO - root - Epoch[0] Batch [200]#011Speed: 34192.35 samples/sec#011accuracy=0.112100\u001b[0m\n",
      "\u001b[31m2018-03-09 07:09:07,303 INFO - root - Epoch[0] Batch [300]#011Speed: 28931.66 samples/sec#011accuracy=0.110200\u001b[0m\n",
      "\u001b[31m2018-03-09 07:09:07,613 INFO - root - Epoch[0] Batch [400]#011Speed: 32299.43 samples/sec#011accuracy=0.115600\u001b[0m\n",
      "\u001b[31m2018-03-09 07:09:07,920 INFO - root - Epoch[0] Batch [500]#011Speed: 32612.48 samples/sec#011accuracy=0.110800\u001b[0m\n",
      "\u001b[31m2018-03-09 07:09:08,250 INFO - root - Epoch[0] Train-accuracy=0.265758\u001b[0m\n",
      "\u001b[31m2018-03-09 07:09:08,251 INFO - root - Epoch[0] Time cost=1.949\u001b[0m\n",
      "\u001b[31m2018-03-09 07:09:08,389 INFO - root - Epoch[0] Validation-accuracy=0.385700\u001b[0m\n",
      "\u001b[31m2018-03-09 07:09:08,707 INFO - root - Epoch[1] Batch [100]#011Speed: 31754.70 samples/sec#011accuracy=0.466238\u001b[0m\n",
      "\u001b[31m2018-03-09 07:09:09,049 INFO - root - Epoch[1] Batch [200]#011Speed: 29245.84 samples/sec#011accuracy=0.572100\u001b[0m\n",
      "\u001b[31m2018-03-09 07:09:09,385 INFO - root - Epoch[1] Batch [300]#011Speed: 29861.26 samples/sec#011accuracy=0.749700\u001b[0m\n",
      "\u001b[31m2018-03-09 07:09:09,694 INFO - root - Epoch[1] Batch [400]#011Speed: 32364.88 samples/sec#011accuracy=0.800400\u001b[0m\n",
      "\u001b[31m2018-03-09 07:09:10,018 INFO - root - Epoch[1] Batch [500]#011Speed: 30880.41 samples/sec#011accuracy=0.818400\u001b[0m\n",
      "\u001b[31m2018-03-09 07:09:10,356 INFO - root - Epoch[1] Train-accuracy=0.842626\u001b[0m\n",
      "\u001b[31m2018-03-09 07:09:10,357 INFO - root - Epoch[1] Time cost=1.967\u001b[0m\n",
      "\u001b[31m2018-03-09 07:09:10,518 INFO - root - Epoch[1] Validation-accuracy=0.857400\u001b[0m\n",
      "\u001b[31m2018-03-09 07:09:10,821 INFO - root - Epoch[2] Batch [100]#011Speed: 33377.16 samples/sec#011accuracy=0.858317\u001b[0m\n",
      "\u001b[31m2018-03-09 07:09:11,133 INFO - root - Epoch[2] Batch [200]#011Speed: 32071.52 samples/sec#011accuracy=0.874300\u001b[0m\n",
      "\u001b[31m2018-03-09 07:09:11,473 INFO - root - Epoch[2] Batch [300]#011Speed: 29375.13 samples/sec#011accuracy=0.889000\u001b[0m\n",
      "\u001b[31m2018-03-09 07:09:11,776 INFO - root - Epoch[2] Batch [400]#011Speed: 33114.88 samples/sec#011accuracy=0.899300\u001b[0m\n",
      "\u001b[31m2018-03-09 07:09:12,102 INFO - root - Epoch[2] Batch [500]#011Speed: 30660.65 samples/sec#011accuracy=0.903500\u001b[0m\n",
      "\u001b[31m2018-03-09 07:09:12,448 INFO - root - Epoch[2] Train-accuracy=0.910404\u001b[0m\n",
      "\u001b[31m2018-03-09 07:09:12,449 INFO - root - Epoch[2] Time cost=1.930\u001b[0m\n",
      "\u001b[31m2018-03-09 07:09:12,600 INFO - root - Epoch[2] Validation-accuracy=0.919900\u001b[0m\n",
      "\u001b[31m2018-03-09 07:09:12,899 INFO - root - Epoch[3] Batch [100]#011Speed: 33858.37 samples/sec#011accuracy=0.917129\u001b[0m\n",
      "\u001b[31m2018-03-09 07:09:13,142 INFO - root - Epoch[3] Batch [200]#011Speed: 41148.91 samples/sec#011accuracy=0.922400\u001b[0m\n",
      "\u001b[31m2018-03-09 07:09:13,458 INFO - root - Epoch[3] Batch [300]#011Speed: 31666.21 samples/sec#011accuracy=0.927800\u001b[0m\n",
      "\u001b[31m2018-03-09 07:09:13,729 INFO - root - Epoch[3] Batch [400]#011Speed: 36915.22 samples/sec#011accuracy=0.934500\u001b[0m\n",
      "\u001b[31m2018-03-09 07:09:14,091 INFO - root - Epoch[3] Batch [500]#011Speed: 27626.91 samples/sec#011accuracy=0.932900\u001b[0m\n",
      "\u001b[31m2018-03-09 07:09:14,454 INFO - root - Epoch[3] Train-accuracy=0.935859\u001b[0m\n",
      "\u001b[31m2018-03-09 07:09:14,454 INFO - root - Epoch[3] Time cost=1.854\u001b[0m\n",
      "\u001b[31m2018-03-09 07:09:14,597 INFO - root - Epoch[3] Validation-accuracy=0.943500\u001b[0m\n",
      "\u001b[31m2018-03-09 07:09:14,904 INFO - root - Epoch[4] Batch [100]#011Speed: 32828.86 samples/sec#011accuracy=0.944356\u001b[0m\n",
      "\u001b[31m2018-03-09 07:09:15,332 INFO - root - Epoch[4] Batch [200]#011Speed: 23388.53 samples/sec#011accuracy=0.943300\u001b[0m\n",
      "\u001b[31m2018-03-09 07:09:15,682 INFO - root - Epoch[4] Batch [300]#011Speed: 28632.04 samples/sec#011accuracy=0.945300\u001b[0m\n",
      "\u001b[31m2018-03-09 07:09:16,000 INFO - root - Epoch[4] Batch [400]#011Speed: 31494.40 samples/sec#011accuracy=0.950500\u001b[0m\n",
      "\u001b[31m2018-03-09 07:09:16,337 INFO - root - Epoch[4] Batch [500]#011Speed: 29666.72 samples/sec#011accuracy=0.948700\u001b[0m\n",
      "\u001b[31m2018-03-09 07:09:16,645 INFO - root - Epoch[4] Train-accuracy=0.950909\u001b[0m\n",
      "\u001b[31m2018-03-09 07:09:16,646 INFO - root - Epoch[4] Time cost=2.048\u001b[0m\n",
      "\u001b[31m2018-03-09 07:09:16,786 INFO - root - Epoch[4] Validation-accuracy=0.952000\u001b[0m\n",
      "\u001b[31m2018-03-09 07:09:17,156 INFO - root - Epoch[5] Batch [100]#011Speed: 27213.40 samples/sec#011accuracy=0.955446\u001b[0m\n",
      "\u001b[31m2018-03-09 07:09:17,500 INFO - root - Epoch[5] Batch [200]#011Speed: 29025.82 samples/sec#011accuracy=0.955800\u001b[0m\n",
      "\u001b[31m2018-03-09 07:09:17,810 INFO - root - Epoch[5] Batch [300]#011Speed: 32330.35 samples/sec#011accuracy=0.955600\u001b[0m\n",
      "\u001b[31m2018-03-09 07:09:18,109 INFO - root - Epoch[5] Batch [400]#011Speed: 33444.81 samples/sec#011accuracy=0.959400\u001b[0m\n",
      "\u001b[31m2018-03-09 07:09:18,430 INFO - root - Epoch[5] Batch [500]#011Speed: 31204.28 samples/sec#011accuracy=0.958800\u001b[0m\n",
      "\u001b[31m2018-03-09 07:09:18,690 INFO - root - Epoch[5] Train-accuracy=0.959293\u001b[0m\n",
      "\u001b[31m2018-03-09 07:09:18,690 INFO - root - Epoch[5] Time cost=1.904\u001b[0m\n",
      "\u001b[31m2018-03-09 07:09:18,848 INFO - root - Epoch[5] Validation-accuracy=0.958500\u001b[0m\n",
      "\u001b[31m2018-03-09 07:09:19,173 INFO - root - Epoch[6] Batch [100]#011Speed: 31034.11 samples/sec#011accuracy=0.963267\u001b[0m\n",
      "\u001b[31m2018-03-09 07:09:19,438 INFO - root - Epoch[6] Batch [200]#011Speed: 37816.78 samples/sec#011accuracy=0.960800\u001b[0m\n",
      "\u001b[31m2018-03-09 07:09:19,733 INFO - root - Epoch[6] Batch [300]#011Speed: 33922.92 samples/sec#011accuracy=0.962100\u001b[0m\n",
      "\u001b[31m2018-03-09 07:09:20,033 INFO - root - Epoch[6] Batch [400]#011Speed: 33266.37 samples/sec#011accuracy=0.965500\u001b[0m\n",
      "\u001b[31m2018-03-09 07:09:20,340 INFO - root - Epoch[6] Batch [500]#011Speed: 32603.45 samples/sec#011accuracy=0.967300\u001b[0m\n",
      "\u001b[31m2018-03-09 07:09:20,582 INFO - root - Epoch[6] Train-accuracy=0.963838\u001b[0m\n",
      "\u001b[31m2018-03-09 07:09:20,582 INFO - root - Epoch[6] Time cost=1.734\u001b[0m\n",
      "\u001b[31m2018-03-09 07:09:20,711 INFO - root - Epoch[6] Validation-accuracy=0.963200\u001b[0m\n",
      "\u001b[31m2018-03-09 07:09:20,956 INFO - root - Epoch[7] Batch [100]#011Speed: 41094.08 samples/sec#011accuracy=0.969307\u001b[0m\n",
      "\u001b[31m2018-03-09 07:09:21,232 INFO - root - Epoch[7] Batch [200]#011Speed: 36301.09 samples/sec#011accuracy=0.967600\u001b[0m\n",
      "\u001b[31m2018-03-09 07:09:21,475 INFO - root - Epoch[7] Batch [300]#011Speed: 41089.69 samples/sec#011accuracy=0.968200\u001b[0m\n"
     ]
    },
    {
     "name": "stdout",
     "output_type": "stream",
     "text": [
      "\u001b[31m2018-03-09 07:09:21,718 INFO - root - Epoch[7] Batch [400]#011Speed: 41194.17 samples/sec#011accuracy=0.971400\u001b[0m\n",
      "\u001b[31m2018-03-09 07:09:21,963 INFO - root - Epoch[7] Batch [500]#011Speed: 40924.87 samples/sec#011accuracy=0.971300\u001b[0m\n",
      "\u001b[31m2018-03-09 07:09:22,259 INFO - root - Epoch[7] Train-accuracy=0.969596\u001b[0m\n",
      "\u001b[31m2018-03-09 07:09:22,259 INFO - root - Epoch[7] Time cost=1.548\u001b[0m\n",
      "\u001b[31m2018-03-09 07:09:22,384 INFO - root - Epoch[7] Validation-accuracy=0.966200\u001b[0m\n",
      "\u001b[31m2018-03-09 07:09:22,634 INFO - root - Epoch[8] Batch [100]#011Speed: 40401.29 samples/sec#011accuracy=0.974653\u001b[0m\n",
      "\u001b[31m2018-03-09 07:09:22,878 INFO - root - Epoch[8] Batch [200]#011Speed: 41006.65 samples/sec#011accuracy=0.971400\u001b[0m\n",
      "\u001b[31m2018-03-09 07:09:23,122 INFO - root - Epoch[8] Batch [300]#011Speed: 41066.60 samples/sec#011accuracy=0.974300\u001b[0m\n",
      "\u001b[31m2018-03-09 07:09:23,497 INFO - root - Epoch[8] Batch [400]#011Speed: 26678.62 samples/sec#011accuracy=0.975500\u001b[0m\n",
      "\u001b[31m2018-03-09 07:09:23,819 INFO - root - Epoch[8] Batch [500]#011Speed: 31009.20 samples/sec#011accuracy=0.975200\u001b[0m\n",
      "\u001b[31m2018-03-09 07:09:24,107 INFO - root - Epoch[8] Train-accuracy=0.973636\u001b[0m\n",
      "\u001b[31m2018-03-09 07:09:24,107 INFO - root - Epoch[8] Time cost=1.722\u001b[0m\n",
      "\u001b[31m2018-03-09 07:09:24,304 INFO - root - Epoch[8] Validation-accuracy=0.968000\u001b[0m\n",
      "\u001b[31m2018-03-09 07:09:24,590 INFO - root - Epoch[9] Batch [100]#011Speed: 35313.23 samples/sec#011accuracy=0.978614\u001b[0m\n",
      "\u001b[31m2018-03-09 07:09:24,861 INFO - root - Epoch[9] Batch [200]#011Speed: 36922.96 samples/sec#011accuracy=0.975100\u001b[0m\n",
      "\u001b[31m2018-03-09 07:09:25,133 INFO - root - Epoch[9] Batch [300]#011Speed: 36820.08 samples/sec#011accuracy=0.978300\u001b[0m\n",
      "\u001b[31m2018-03-09 07:09:25,477 INFO - root - Epoch[9] Batch [400]#011Speed: 29009.30 samples/sec#011accuracy=0.978100\u001b[0m\n",
      "\u001b[31m2018-03-09 07:09:25,778 INFO - root - Epoch[9] Batch [500]#011Speed: 33328.33 samples/sec#011accuracy=0.978700\u001b[0m\n",
      "\u001b[31m2018-03-09 07:09:26,128 INFO - root - Epoch[9] Train-accuracy=0.976667\u001b[0m\n",
      "\u001b[31m2018-03-09 07:09:26,128 INFO - root - Epoch[9] Time cost=1.823\u001b[0m\n",
      "\u001b[31m2018-03-09 07:09:26,313 INFO - root - Epoch[9] Validation-accuracy=0.969300\u001b[0m\n",
      "\u001b[31m2018-03-09 07:09:26,663 INFO - root - Epoch[10] Batch [100]#011Speed: 28782.62 samples/sec#011accuracy=0.980693\u001b[0m\n",
      "\u001b[31m2018-03-09 07:09:26,996 INFO - root - Epoch[10] Batch [200]#011Speed: 30026.79 samples/sec#011accuracy=0.978800\u001b[0m\n",
      "\u001b[31m2018-03-09 07:09:27,347 INFO - root - Epoch[10] Batch [300]#011Speed: 28506.93 samples/sec#011accuracy=0.980800\u001b[0m\n",
      "\u001b[31m2018-03-09 07:09:27,663 INFO - root - Epoch[10] Batch [400]#011Speed: 31618.45 samples/sec#011accuracy=0.979800\u001b[0m\n",
      "\u001b[31m2018-03-09 07:09:27,976 INFO - root - Epoch[10] Batch [500]#011Speed: 32045.43 samples/sec#011accuracy=0.981000\u001b[0m\n",
      "\u001b[31m2018-03-09 07:09:28,326 INFO - root - Epoch[10] Train-accuracy=0.980000\u001b[0m\n",
      "\u001b[31m2018-03-09 07:09:28,326 INFO - root - Epoch[10] Time cost=2.013\u001b[0m\n",
      "\u001b[31m2018-03-09 07:09:28,462 INFO - root - Epoch[10] Validation-accuracy=0.970000\u001b[0m\n",
      "\u001b[31m2018-03-09 07:09:28,784 INFO - root - Epoch[11] Batch [100]#011Speed: 31214.10 samples/sec#011accuracy=0.983168\u001b[0m\n",
      "\u001b[31m2018-03-09 07:09:29,102 INFO - root - Epoch[11] Batch [200]#011Speed: 31476.83 samples/sec#011accuracy=0.982000\u001b[0m\n",
      "\u001b[31m2018-03-09 07:09:29,452 INFO - root - Epoch[11] Batch [300]#011Speed: 28601.99 samples/sec#011accuracy=0.983700\u001b[0m\n",
      "\u001b[31m2018-03-09 07:09:29,742 INFO - root - Epoch[11] Batch [400]#011Speed: 34562.98 samples/sec#011accuracy=0.982200\u001b[0m\n",
      "\u001b[31m2018-03-09 07:09:30,026 INFO - root - Epoch[11] Batch [500]#011Speed: 35227.01 samples/sec#011accuracy=0.983100\u001b[0m\n",
      "\u001b[31m2018-03-09 07:09:30,374 INFO - root - Epoch[11] Train-accuracy=0.982424\u001b[0m\n",
      "\u001b[31m2018-03-09 07:09:30,375 INFO - root - Epoch[11] Time cost=1.913\u001b[0m\n",
      "\u001b[31m2018-03-09 07:09:30,502 INFO - root - Epoch[11] Validation-accuracy=0.969700\u001b[0m\n",
      "\u001b[31m2018-03-09 07:09:30,826 INFO - root - Epoch[12] Batch [100]#011Speed: 31116.49 samples/sec#011accuracy=0.985248\u001b[0m\n",
      "\u001b[31m2018-03-09 07:09:31,104 INFO - root - Epoch[12] Batch [200]#011Speed: 35968.12 samples/sec#011accuracy=0.984800\u001b[0m\n",
      "\u001b[31m2018-03-09 07:09:31,436 INFO - root - Epoch[12] Batch [300]#011Speed: 30166.54 samples/sec#011accuracy=0.986200\u001b[0m\n",
      "\u001b[31m2018-03-09 07:09:31,742 INFO - root - Epoch[12] Batch [400]#011Speed: 32689.80 samples/sec#011accuracy=0.984100\u001b[0m\n",
      "\u001b[31m2018-03-09 07:09:32,049 INFO - root - Epoch[12] Batch [500]#011Speed: 32617.48 samples/sec#011accuracy=0.985900\u001b[0m\n",
      "\u001b[31m2018-03-09 07:09:32,410 INFO - root - Epoch[12] Train-accuracy=0.985354\u001b[0m\n",
      "\u001b[31m2018-03-09 07:09:32,410 INFO - root - Epoch[12] Time cost=1.908\u001b[0m\n",
      "\u001b[31m2018-03-09 07:09:32,561 INFO - root - Epoch[12] Validation-accuracy=0.970400\u001b[0m\n",
      "\u001b[31m2018-03-09 07:09:32,848 INFO - root - Epoch[13] Batch [100]#011Speed: 35209.92 samples/sec#011accuracy=0.986931\u001b[0m\n",
      "\u001b[31m2018-03-09 07:09:33,145 INFO - root - Epoch[13] Batch [200]#011Speed: 33646.81 samples/sec#011accuracy=0.986900\u001b[0m\n",
      "\u001b[31m2018-03-09 07:09:33,490 INFO - root - Epoch[13] Batch [300]#011Speed: 29038.78 samples/sec#011accuracy=0.988400\u001b[0m\n",
      "\u001b[31m2018-03-09 07:09:33,783 INFO - root - Epoch[13] Batch [400]#011Speed: 34154.29 samples/sec#011accuracy=0.986900\u001b[0m\n",
      "\u001b[31m2018-03-09 07:09:34,061 INFO - root - Epoch[13] Batch [500]#011Speed: 35988.31 samples/sec#011accuracy=0.987400\u001b[0m\n",
      "\u001b[31m2018-03-09 07:09:34,408 INFO - root - Epoch[13] Train-accuracy=0.986869\u001b[0m\n",
      "\u001b[31m2018-03-09 07:09:34,408 INFO - root - Epoch[13] Time cost=1.847\u001b[0m\n",
      "\u001b[31m2018-03-09 07:09:34,544 INFO - root - Epoch[13] Validation-accuracy=0.970600\u001b[0m\n",
      "\u001b[31m2018-03-09 07:09:34,838 INFO - root - Epoch[14] Batch [100]#011Speed: 34428.76 samples/sec#011accuracy=0.988713\u001b[0m\n",
      "\u001b[31m2018-03-09 07:09:35,145 INFO - root - Epoch[14] Batch [200]#011Speed: 32520.31 samples/sec#011accuracy=0.988000\u001b[0m\n",
      "\u001b[31m2018-03-09 07:09:35,469 INFO - root - Epoch[14] Batch [300]#011Speed: 30933.98 samples/sec#011accuracy=0.989600\u001b[0m\n",
      "\u001b[31m2018-03-09 07:09:35,790 INFO - root - Epoch[14] Batch [400]#011Speed: 31162.94 samples/sec#011accuracy=0.989100\u001b[0m\n",
      "\u001b[31m2018-03-09 07:09:36,106 INFO - root - Epoch[14] Batch [500]#011Speed: 31627.05 samples/sec#011accuracy=0.988800\u001b[0m\n",
      "\u001b[31m2018-03-09 07:09:36,460 INFO - root - Epoch[14] Train-accuracy=0.988586\u001b[0m\n",
      "\u001b[31m2018-03-09 07:09:36,460 INFO - root - Epoch[14] Time cost=1.916\u001b[0m\n",
      "\u001b[31m2018-03-09 07:09:36,604 INFO - root - Epoch[14] Validation-accuracy=0.971300\u001b[0m\n",
      "\u001b[31m2018-03-09 07:09:36,917 INFO - root - Epoch[15] Batch [100]#011Speed: 32229.37 samples/sec#011accuracy=0.990198\u001b[0m\n",
      "\u001b[31m2018-03-09 07:09:37,302 INFO - root - Epoch[15] Batch [200]#011Speed: 25949.36 samples/sec#011accuracy=0.989800\u001b[0m\n",
      "\u001b[31m2018-03-09 07:09:37,662 INFO - root - Epoch[15] Batch [300]#011Speed: 27833.92 samples/sec#011accuracy=0.991100\u001b[0m\n",
      "\u001b[31m2018-03-09 07:09:37,977 INFO - root - Epoch[15] Batch [400]#011Speed: 31765.28 samples/sec#011accuracy=0.989800\u001b[0m\n",
      "\u001b[31m2018-03-09 07:09:38,316 INFO - root - Epoch[15] Batch [500]#011Speed: 29456.72 samples/sec#011accuracy=0.989600\u001b[0m\n",
      "\u001b[31m2018-03-09 07:09:38,627 INFO - root - Epoch[15] Train-accuracy=0.990202\u001b[0m\n",
      "\u001b[31m2018-03-09 07:09:38,627 INFO - root - Epoch[15] Time cost=2.023\u001b[0m\n",
      "\u001b[31m2018-03-09 07:09:38,762 INFO - root - Epoch[15] Validation-accuracy=0.971500\u001b[0m\n",
      "\u001b[31m2018-03-09 07:09:39,058 INFO - root - Epoch[16] Batch [100]#011Speed: 34080.83 samples/sec#011accuracy=0.991485\u001b[0m\n",
      "\u001b[31m2018-03-09 07:09:39,375 INFO - root - Epoch[16] Batch [200]#011Speed: 31525.55 samples/sec#011accuracy=0.991300\u001b[0m\n",
      "\u001b[31m2018-03-09 07:09:39,649 INFO - root - Epoch[16] Batch [300]#011Speed: 36527.95 samples/sec#011accuracy=0.992400\u001b[0m\n",
      "\u001b[31m2018-03-09 07:09:39,948 INFO - root - Epoch[16] Batch [400]#011Speed: 33470.78 samples/sec#011accuracy=0.990500\u001b[0m\n",
      "\u001b[31m2018-03-09 07:09:40,268 INFO - root - Epoch[16] Batch [500]#011Speed: 31305.87 samples/sec#011accuracy=0.990600\u001b[0m\n",
      "\u001b[31m2018-03-09 07:09:40,587 INFO - root - Epoch[16] Train-accuracy=0.991313\u001b[0m\n",
      "\u001b[31m2018-03-09 07:09:40,587 INFO - root - Epoch[16] Time cost=1.825\u001b[0m\n",
      "\u001b[31m2018-03-09 07:09:40,719 INFO - root - Epoch[16] Validation-accuracy=0.972100\u001b[0m\n",
      "\u001b[31m2018-03-09 07:09:41,021 INFO - root - Epoch[17] Batch [100]#011Speed: 33392.68 samples/sec#011accuracy=0.993168\u001b[0m\n",
      "\u001b[31m2018-03-09 07:09:41,341 INFO - root - Epoch[17] Batch [200]#011Speed: 31279.63 samples/sec#011accuracy=0.992300\u001b[0m\n",
      "\u001b[31m2018-03-09 07:09:41,645 INFO - root - Epoch[17] Batch [300]#011Speed: 32870.82 samples/sec#011accuracy=0.993300\u001b[0m\n",
      "\u001b[31m2018-03-09 07:09:41,955 INFO - root - Epoch[17] Batch [400]#011Speed: 32241.75 samples/sec#011accuracy=0.991500\u001b[0m\n",
      "\u001b[31m2018-03-09 07:09:42,295 INFO - root - Epoch[17] Batch [500]#011Speed: 29488.34 samples/sec#011accuracy=0.991900\u001b[0m\n",
      "\u001b[31m2018-03-09 07:09:42,621 INFO - root - Epoch[17] Train-accuracy=0.992727\u001b[0m\n",
      "\u001b[31m2018-03-09 07:09:42,621 INFO - root - Epoch[17] Time cost=1.902\u001b[0m\n",
      "\u001b[31m2018-03-09 07:09:42,766 INFO - root - Epoch[17] Validation-accuracy=0.972800\u001b[0m\n",
      "\u001b[31m2018-03-09 07:09:43,082 INFO - root - Epoch[18] Batch [100]#011Speed: 31900.55 samples/sec#011accuracy=0.994059\u001b[0m\n",
      "\u001b[31m2018-03-09 07:09:43,424 INFO - root - Epoch[18] Batch [200]#011Speed: 29270.05 samples/sec#011accuracy=0.993400\u001b[0m\n",
      "\u001b[31m2018-03-09 07:09:43,736 INFO - root - Epoch[18] Batch [300]#011Speed: 32101.49 samples/sec#011accuracy=0.994800\u001b[0m\n",
      "\u001b[31m2018-03-09 07:09:44,048 INFO - root - Epoch[18] Batch [400]#011Speed: 32010.16 samples/sec#011accuracy=0.992400\u001b[0m\n",
      "\u001b[31m2018-03-09 07:09:44,393 INFO - root - Epoch[18] Batch [500]#011Speed: 29037.28 samples/sec#011accuracy=0.993400\u001b[0m\n",
      "\u001b[31m2018-03-09 07:09:44,716 INFO - root - Epoch[18] Train-accuracy=0.993333\u001b[0m\n",
      "\u001b[31m2018-03-09 07:09:44,716 INFO - root - Epoch[18] Time cost=1.950\u001b[0m\n",
      "\u001b[31m2018-03-09 07:09:44,855 INFO - root - Epoch[18] Validation-accuracy=0.973500\u001b[0m\n",
      "\u001b[31m2018-03-09 07:09:45,170 INFO - root - Epoch[19] Batch [100]#011Speed: 31959.60 samples/sec#011accuracy=0.995149\u001b[0m\n"
     ]
    },
    {
     "name": "stdout",
     "output_type": "stream",
     "text": [
      "\u001b[31m2018-03-09 07:09:45,502 INFO - root - Epoch[19] Batch [200]#011Speed: 30103.70 samples/sec#011accuracy=0.994400\u001b[0m\n",
      "\u001b[31m2018-03-09 07:09:45,868 INFO - root - Epoch[19] Batch [300]#011Speed: 27365.32 samples/sec#011accuracy=0.995400\u001b[0m\n",
      "\u001b[31m2018-03-09 07:09:46,248 INFO - root - Epoch[19] Batch [400]#011Speed: 26328.12 samples/sec#011accuracy=0.994400\u001b[0m\n",
      "\u001b[31m2018-03-09 07:09:46,571 INFO - root - Epoch[19] Batch [500]#011Speed: 30949.59 samples/sec#011accuracy=0.994600\u001b[0m\n",
      "\u001b[31m2018-03-09 07:09:46,871 INFO - root - Epoch[19] Train-accuracy=0.994949\u001b[0m\n",
      "\u001b[31m2018-03-09 07:09:46,871 INFO - root - Epoch[19] Time cost=2.016\u001b[0m\n",
      "\u001b[31m2018-03-09 07:09:47,028 INFO - root - Epoch[19] Validation-accuracy=0.973200\u001b[0m\n",
      "\u001b[31m2018-03-09 07:09:47,370 INFO - root - Epoch[20] Batch [100]#011Speed: 29511.23 samples/sec#011accuracy=0.995941\u001b[0m\n",
      "\u001b[31m2018-03-09 07:09:47,695 INFO - root - Epoch[20] Batch [200]#011Speed: 30800.61 samples/sec#011accuracy=0.995400\u001b[0m\n",
      "\u001b[31m2018-03-09 07:09:48,002 INFO - root - Epoch[20] Batch [300]#011Speed: 32564.80 samples/sec#011accuracy=0.995900\u001b[0m\n",
      "\u001b[31m2018-03-09 07:09:48,331 INFO - root - Epoch[20] Batch [400]#011Speed: 30431.59 samples/sec#011accuracy=0.995700\u001b[0m\n",
      "\u001b[31m2018-03-09 07:09:48,664 INFO - root - Epoch[20] Batch [500]#011Speed: 30015.25 samples/sec#011accuracy=0.996000\u001b[0m\n",
      "\u001b[31m2018-03-09 07:09:48,940 INFO - root - Epoch[20] Train-accuracy=0.995455\u001b[0m\n",
      "\u001b[31m2018-03-09 07:09:48,940 INFO - root - Epoch[20] Time cost=1.912\u001b[0m\n",
      "\u001b[31m2018-03-09 07:09:49,076 INFO - root - Epoch[20] Validation-accuracy=0.974000\u001b[0m\n",
      "\u001b[31m2018-03-09 07:09:49,400 INFO - root - Epoch[21] Batch [100]#011Speed: 31521.47 samples/sec#011accuracy=0.997030\u001b[0m\n",
      "\u001b[31m2018-03-09 07:09:49,711 INFO - root - Epoch[21] Batch [200]#011Speed: 32306.30 samples/sec#011accuracy=0.995700\u001b[0m\n",
      "\u001b[31m2018-03-09 07:09:50,012 INFO - root - Epoch[21] Batch [300]#011Speed: 33211.87 samples/sec#011accuracy=0.996500\u001b[0m\n",
      "\u001b[31m2018-03-09 07:09:50,349 INFO - root - Epoch[21] Batch [400]#011Speed: 29731.21 samples/sec#011accuracy=0.996300\u001b[0m\n",
      "\u001b[31m2018-03-09 07:09:50,671 INFO - root - Epoch[21] Batch [500]#011Speed: 31069.13 samples/sec#011accuracy=0.996800\u001b[0m\n",
      "\u001b[31m2018-03-09 07:09:50,972 INFO - root - Epoch[21] Train-accuracy=0.996263\u001b[0m\n",
      "\u001b[31m2018-03-09 07:09:50,972 INFO - root - Epoch[21] Time cost=1.895\u001b[0m\n",
      "\u001b[31m2018-03-09 07:09:51,128 INFO - root - Epoch[21] Validation-accuracy=0.973900\u001b[0m\n",
      "\u001b[31m2018-03-09 07:09:51,448 INFO - root - Epoch[22] Batch [100]#011Speed: 31600.27 samples/sec#011accuracy=0.997327\u001b[0m\n",
      "\u001b[31m2018-03-09 07:09:51,757 INFO - root - Epoch[22] Batch [200]#011Speed: 32356.27 samples/sec#011accuracy=0.997000\u001b[0m\n",
      "\u001b[31m2018-03-09 07:09:52,057 INFO - root - Epoch[22] Batch [300]#011Speed: 33357.22 samples/sec#011accuracy=0.997400\u001b[0m\n",
      "\u001b[31m2018-03-09 07:09:52,390 INFO - root - Epoch[22] Batch [400]#011Speed: 30030.94 samples/sec#011accuracy=0.997500\u001b[0m\n",
      "\u001b[31m2018-03-09 07:09:52,716 INFO - root - Epoch[22] Batch [500]#011Speed: 30730.47 samples/sec#011accuracy=0.997200\u001b[0m\n",
      "\u001b[31m2018-03-09 07:09:53,013 INFO - root - Epoch[22] Train-accuracy=0.996970\u001b[0m\n",
      "\u001b[31m2018-03-09 07:09:53,014 INFO - root - Epoch[22] Time cost=1.885\u001b[0m\n",
      "\u001b[31m2018-03-09 07:09:53,162 INFO - root - Epoch[22] Validation-accuracy=0.974200\u001b[0m\n",
      "\u001b[31m2018-03-09 07:09:53,502 INFO - root - Epoch[23] Batch [100]#011Speed: 29661.72 samples/sec#011accuracy=0.997822\u001b[0m\n",
      "\u001b[31m2018-03-09 07:09:53,802 INFO - root - Epoch[23] Batch [200]#011Speed: 33374.72 samples/sec#011accuracy=0.997500\u001b[0m\n",
      "\u001b[31m2018-03-09 07:09:54,084 INFO - root - Epoch[23] Batch [300]#011Speed: 35449.18 samples/sec#011accuracy=0.997900\u001b[0m\n",
      "\u001b[31m2018-03-09 07:09:54,421 INFO - root - Epoch[23] Batch [400]#011Speed: 29741.37 samples/sec#011accuracy=0.998000\u001b[0m\n",
      "\u001b[31m2018-03-09 07:09:54,739 INFO - root - Epoch[23] Batch [500]#011Speed: 31460.00 samples/sec#011accuracy=0.997800\u001b[0m\n",
      "\u001b[31m2018-03-09 07:09:55,050 INFO - root - Epoch[23] Train-accuracy=0.997475\u001b[0m\n",
      "\u001b[31m2018-03-09 07:09:55,051 INFO - root - Epoch[23] Time cost=1.888\u001b[0m\n",
      "\u001b[31m2018-03-09 07:09:55,234 INFO - root - Epoch[23] Validation-accuracy=0.974700\u001b[0m\n",
      "\u001b[31m2018-03-09 07:09:55,547 INFO - root - Epoch[24] Batch [100]#011Speed: 32328.66 samples/sec#011accuracy=0.998119\u001b[0m\n",
      "\u001b[31m2018-03-09 07:09:55,870 INFO - root - Epoch[24] Batch [200]#011Speed: 30958.80 samples/sec#011accuracy=0.998200\u001b[0m\n",
      "\u001b[31m2018-03-09 07:09:56,192 INFO - root - Epoch[24] Batch [300]#011Speed: 31135.09 samples/sec#011accuracy=0.998500\u001b[0m\n",
      "\u001b[31m2018-03-09 07:09:56,526 INFO - root - Epoch[24] Batch [400]#011Speed: 29900.28 samples/sec#011accuracy=0.998300\u001b[0m\n",
      "\u001b[31m2018-03-09 07:09:56,847 INFO - root - Epoch[24] Batch [500]#011Speed: 31166.53 samples/sec#011accuracy=0.998100\u001b[0m\n",
      "\u001b[31m2018-03-09 07:09:57,147 INFO - root - Epoch[24] Train-accuracy=0.998485\u001b[0m\n",
      "\u001b[31m2018-03-09 07:09:57,147 INFO - root - Epoch[24] Time cost=1.913\u001b[0m\n",
      "\u001b[31m2018-03-09 07:09:57,311 INFO - root - Epoch[24] Validation-accuracy=0.974500\u001b[0m\n",
      "===== Job Complete =====\n",
      "CPU times: user 436 ms, sys: 52 ms, total: 488 ms\n",
      "Wall time: 7min 8s\n"
     ]
    }
   ],
   "source": [
    "%%time\n",
    "import boto3\n",
    "\n",
    "region = boto3.Session().region_name\n",
    "train_data_location = 's3://sagemaker-sample-data-{}/mxnet/mnist/train'.format(region)\n",
    "test_data_location = 's3://sagemaker-sample-data-{}/mxnet/mnist/test'.format(region)\n",
    "\n",
    "mnist_estimator.fit({'train': train_data_location, 'test': test_data_location})"
   ]
  },
  {
   "cell_type": "markdown",
   "metadata": {},
   "source": [
    "### Creating an inference Endpoint\n",
    "\n",
    "Now, we can deploy the model we just trained behind a real-time hosted endpoint.  This next step can take, on average, 7 to 11 minutes to complete\n",
    "\n",
    "After training, we use the ``MXNet estimator`` object to build and deploy an ``MXNetPredictor``. This creates a Sagemaker **Endpoint** -- a hosted prediction service that we can use to perform inference. \n",
    "\n",
    "The arguments to the ``deploy`` function allow us to set the number and type of instances that will be used for the Endpoint. These do not need to be the same as the values we used for the training job. For example, you can train a model on a set of GPU-based instances, and then deploy the Endpoint to a fleet of CPU-based instances. Here we will deploy the model to a single ``ml.m4.xlarge`` instance."
   ]
  },
  {
   "cell_type": "code",
   "execution_count": 73,
   "metadata": {},
   "outputs": [
    {
     "name": "stderr",
     "output_type": "stream",
     "text": [
      "INFO:sagemaker:Creating model with name: sagemaker-mxnet-py2-cpu-2018-03-09-07-03-40-344\n",
      "INFO:sagemaker:Creating endpoint with name sagemaker-mxnet-py2-cpu-2018-03-09-07-03-40-344\n"
     ]
    },
    {
     "name": "stdout",
     "output_type": "stream",
     "text": [
      "---------------------------------------------------------------------------------------------------------------!CPU times: user 468 ms, sys: 32 ms, total: 500 ms\n",
      "Wall time: 9min 27s\n"
     ]
    }
   ],
   "source": [
    "%%time\n",
    "\n",
    "predictor = mnist_estimator.deploy(initial_instance_count=1,\n",
    "                                   instance_type='ml.m4.xlarge')"
   ]
  },
  {
   "cell_type": "markdown",
   "metadata": {},
   "source": [
    "The request handling behavior of the Endpoint is determined by the ``mnist.py`` script. In this case, the script doesn't include any request handling functions, so the Endpoint will use the default handlers provided by SageMaker. These default handlers allow us to perform inference on input data encoded as a multi-dimensional JSON array.\n",
    "\n",
    "### Making an inference request\n",
    "\n",
    "Now that our Endpoint is deployed and we have a ``predictor`` object, we can use it to classify handwritten digits.\n",
    "\n",
    "To see inference in action, draw a digit in the image box below. The pixel data from your drawing will be loaded into a ``data`` variable in this notebook. \n",
    "\n",
    "*Note: after drawing the image, you'll need to move to the next notebook cell.*"
   ]
  },
  {
   "cell_type": "code",
   "execution_count": 74,
   "metadata": {},
   "outputs": [
    {
     "data": {
      "text/html": [
       "<script type=\"text/Javascript\">\n",
       "    var pixels = [];\n",
       "    for (var i = 0; i < 28*28; i++) pixels[i] = 0;\n",
       "    var click = 0;\n",
       "\n",
       "    var canvas = document.querySelector(\"canvas\");\n",
       "    canvas.addEventListener(\"mousemove\", function(e){\n",
       "        if (e.buttons == 1) {\n",
       "            click = 1;\n",
       "            canvas.getContext(\"2d\").fillStyle = \"rgb(0,0,0)\";\n",
       "            canvas.getContext(\"2d\").fillRect(e.offsetX, e.offsetY, 8, 8);\n",
       "            x = Math.floor(e.offsetY * 0.2);\n",
       "            y = Math.floor(e.offsetX * 0.2) + 1;\n",
       "            for (var dy = 0; dy < 2; dy++){\n",
       "                for (var dx = 0; dx < 2; dx++){\n",
       "                    if ((x + dx < 28) && (y + dy < 28)){\n",
       "                        pixels[(y+dy)+(x+dx)*28] = 1;\n",
       "                    }\n",
       "                }\n",
       "            }\n",
       "        } else {\n",
       "            if (click == 1) set_value();\n",
       "            click = 0;\n",
       "        }\n",
       "    });\n",
       "    function clear_value(){\n",
       "        canvas.getContext(\"2d\").fillStyle = \"rgb(255,255,255)\";\n",
       "        canvas.getContext(\"2d\").fillRect(0, 0, 140, 140);\n",
       "        for (var i = 0; i < 28*28; i++) pixels[i] = 0;\n",
       "    }\n",
       "    \n",
       "    function set_value(){\n",
       "        var result = \"[[\"\n",
       "        for (var i = 0; i < 28; i++) {\n",
       "            result += \"[\"\n",
       "            for (var j = 0; j < 28; j++) {\n",
       "                result += pixels [i * 28 + j]\n",
       "                if (j < 27) {\n",
       "                    result += \", \"\n",
       "                }\n",
       "            }\n",
       "            result += \"]\"\n",
       "            if (i < 27) {\n",
       "                result += \", \"\n",
       "            }\n",
       "        }\n",
       "        result += \"]]\"\n",
       "        var kernel = IPython.notebook.kernel;\n",
       "        kernel.execute(\"data = \" + result)\n",
       "    }\n",
       "</script>\n",
       "<table>\n",
       "<td style=\"border-style: none;\">\n",
       "<div style=\"border: solid 2px #666; width: 143px; height: 144px;\">\n",
       "<canvas width=\"140\" height=\"140\"></canvas>\n",
       "</div></td>\n",
       "<td style=\"border-style: none;\">\n",
       "<button onclick=\"clear_value()\">Clear</button>\n",
       "</td>\n",
       "</table>\n",
       "\n",
       "<!-- This work has been modified from the original and is licensed under the Apache 2.0 License. -->\n",
       "\n",
       "<!--\n",
       "                                     Apache License\n",
       "                           Version 2.0, January 2004\n",
       "                        http://www.apache.org/licenses/\n",
       "\n",
       "   TERMS AND CONDITIONS FOR USE, REPRODUCTION, AND DISTRIBUTION\n",
       "\n",
       "   1. Definitions.\n",
       "\n",
       "      \"License\" shall mean the terms and conditions for use, reproduction,\n",
       "      and distribution as defined by Sections 1 through 9 of this document.\n",
       "\n",
       "      \"Licensor\" shall mean the copyright owner or entity authorized by\n",
       "      the copyright owner that is granting the License.\n",
       "\n",
       "      \"Legal Entity\" shall mean the union of the acting entity and all\n",
       "      other entities that control, are controlled by, or are under common\n",
       "      control with that entity. For the purposes of this definition,\n",
       "      \"control\" means (i) the power, direct or indirect, to cause the\n",
       "      direction or management of such entity, whether by contract or\n",
       "      otherwise, or (ii) ownership of fifty percent (50%) or more of the\n",
       "      outstanding shares, or (iii) beneficial ownership of such entity.\n",
       "\n",
       "      \"You\" (or \"Your\") shall mean an individual or Legal Entity\n",
       "      exercising permissions granted by this License.\n",
       "\n",
       "      \"Source\" form shall mean the preferred form for making modifications,\n",
       "      including but not limited to software source code, documentation\n",
       "      source, and configuration files.\n",
       "\n",
       "      \"Object\" form shall mean any form resulting from mechanical\n",
       "      transformation or translation of a Source form, including but\n",
       "      not limited to compiled object code, generated documentation,\n",
       "      and conversions to other media types.\n",
       "\n",
       "      \"Work\" shall mean the work of authorship, whether in Source or\n",
       "      Object form, made available under the License, as indicated by a\n",
       "      copyright notice that is included in or attached to the work\n",
       "      (an example is provided in the Appendix below).\n",
       "\n",
       "      \"Derivative Works\" shall mean any work, whether in Source or Object\n",
       "      form, that is based on (or derived from) the Work and for which the\n",
       "      editorial revisions, annotations, elaborations, or other modifications\n",
       "      represent, as a whole, an original work of authorship. For the purposes\n",
       "      of this License, Derivative Works shall not include works that remain\n",
       "      separable from, or merely link (or bind by name) to the interfaces of,\n",
       "      the Work and Derivative Works thereof.\n",
       "\n",
       "      \"Contribution\" shall mean any work of authorship, including\n",
       "      the original version of the Work and any modifications or additions\n",
       "      to that Work or Derivative Works thereof, that is intentionally\n",
       "      submitted to Licensor for inclusion in the Work by the copyright owner\n",
       "      or by an individual or Legal Entity authorized to submit on behalf of\n",
       "      the copyright owner. For the purposes of this definition, \"submitted\"\n",
       "      means any form of electronic, verbal, or written communication sent\n",
       "      to the Licensor or its representatives, including but not limited to\n",
       "      communication on electronic mailing lists, source code control systems,\n",
       "      and issue tracking systems that are managed by, or on behalf of, the\n",
       "      Licensor for the purpose of discussing and improving the Work, but\n",
       "      excluding communication that is conspicuously marked or otherwise\n",
       "      designated in writing by the copyright owner as \"Not a Contribution.\"\n",
       "\n",
       "      \"Contributor\" shall mean Licensor and any individual or Legal Entity\n",
       "      on behalf of whom a Contribution has been received by Licensor and\n",
       "      subsequently incorporated within the Work.\n",
       "\n",
       "   2. Grant of Copyright License. Subject to the terms and conditions of\n",
       "      this License, each Contributor hereby grants to You a perpetual,\n",
       "      worldwide, non-exclusive, no-charge, royalty-free, irrevocable\n",
       "      copyright license to reproduce, prepare Derivative Works of,\n",
       "      publicly display, publicly perform, sublicense, and distribute the\n",
       "      Work and such Derivative Works in Source or Object form.\n",
       "\n",
       "   3. Grant of Patent License. Subject to the terms and conditions of\n",
       "      this License, each Contributor hereby grants to You a perpetual,\n",
       "      worldwide, non-exclusive, no-charge, royalty-free, irrevocable\n",
       "      (except as stated in this section) patent license to make, have made,\n",
       "      use, offer to sell, sell, import, and otherwise transfer the Work,\n",
       "      where such license applies only to those patent claims licensable\n",
       "      by such Contributor that are necessarily infringed by their\n",
       "      Contribution(s) alone or by combination of their Contribution(s)\n",
       "      with the Work to which such Contribution(s) was submitted. If You\n",
       "      institute patent litigation against any entity (including a\n",
       "      cross-claim or counterclaim in a lawsuit) alleging that the Work\n",
       "      or a Contribution incorporated within the Work constitutes direct\n",
       "      or contributory patent infringement, then any patent licenses\n",
       "      granted to You under this License for that Work shall terminate\n",
       "      as of the date such litigation is filed.\n",
       "\n",
       "   4. Redistribution. You may reproduce and distribute copies of the\n",
       "      Work or Derivative Works thereof in any medium, with or without\n",
       "      modifications, and in Source or Object form, provided that You\n",
       "      meet the following conditions:\n",
       "\n",
       "      (a) You must give any other recipients of the Work or\n",
       "          Derivative Works a copy of this License; and\n",
       "\n",
       "      (b) You must cause any modified files to carry prominent notices\n",
       "          stating that You changed the files; and\n",
       "\n",
       "      (c) You must retain, in the Source form of any Derivative Works\n",
       "          that You distribute, all copyright, patent, trademark, and\n",
       "          attribution notices from the Source form of the Work,\n",
       "          excluding those notices that do not pertain to any part of\n",
       "          the Derivative Works; and\n",
       "\n",
       "      (d) If the Work includes a \"NOTICE\" text file as part of its\n",
       "          distribution, then any Derivative Works that You distribute must\n",
       "          include a readable copy of the attribution notices contained\n",
       "          within such NOTICE file, excluding those notices that do not\n",
       "          pertain to any part of the Derivative Works, in at least one\n",
       "          of the following places: within a NOTICE text file distributed\n",
       "          as part of the Derivative Works; within the Source form or\n",
       "          documentation, if provided along with the Derivative Works; or,\n",
       "          within a display generated by the Derivative Works, if and\n",
       "          wherever such third-party notices normally appear. The contents\n",
       "          of the NOTICE file are for informational purposes only and\n",
       "          do not modify the License. You may add Your own attribution\n",
       "          notices within Derivative Works that You distribute, alongside\n",
       "          or as an addendum to the NOTICE text from the Work, provided\n",
       "          that such additional attribution notices cannot be construed\n",
       "          as modifying the License.\n",
       "\n",
       "      You may add Your own copyright statement to Your modifications and\n",
       "      may provide additional or different license terms and conditions\n",
       "      for use, reproduction, or distribution of Your modifications, or\n",
       "      for any such Derivative Works as a whole, provided Your use,\n",
       "      reproduction, and distribution of the Work otherwise complies with\n",
       "      the conditions stated in this License.\n",
       "\n",
       "   5. Submission of Contributions. Unless You explicitly state otherwise,\n",
       "      any Contribution intentionally submitted for inclusion in the Work\n",
       "      by You to the Licensor shall be under the terms and conditions of\n",
       "      this License, without any additional terms or conditions.\n",
       "      Notwithstanding the above, nothing herein shall supersede or modify\n",
       "      the terms of any separate license agreement you may have executed\n",
       "      with Licensor regarding such Contributions.\n",
       "\n",
       "   6. Trademarks. This License does not grant permission to use the trade\n",
       "      names, trademarks, service marks, or product names of the Licensor,\n",
       "      except as required for reasonable and customary use in describing the\n",
       "      origin of the Work and reproducing the content of the NOTICE file.\n",
       "\n",
       "   7. Disclaimer of Warranty. Unless required by applicable law or\n",
       "      agreed to in writing, Licensor provides the Work (and each\n",
       "      Contributor provides its Contributions) on an \"AS IS\" BASIS,\n",
       "      WITHOUT WARRANTIES OR CONDITIONS OF ANY KIND, either express or\n",
       "      implied, including, without limitation, any warranties or conditions\n",
       "      of TITLE, NON-INFRINGEMENT, MERCHANTABILITY, or FITNESS FOR A\n",
       "      PARTICULAR PURPOSE. You are solely responsible for determining the\n",
       "      appropriateness of using or redistributing the Work and assume any\n",
       "      risks associated with Your exercise of permissions under this License.\n",
       "\n",
       "   8. Limitation of Liability. In no event and under no legal theory,\n",
       "      whether in tort (including negligence), contract, or otherwise,\n",
       "      unless required by applicable law (such as deliberate and grossly\n",
       "      negligent acts) or agreed to in writing, shall any Contributor be\n",
       "      liable to You for damages, including any direct, indirect, special,\n",
       "      incidental, or consequential damages of any character arising as a\n",
       "      result of this License or out of the use or inability to use the\n",
       "      Work (including but not limited to damages for loss of goodwill,\n",
       "      work stoppage, computer failure or malfunction, or any and all\n",
       "      other commercial damages or losses), even if such Contributor\n",
       "      has been advised of the possibility of such damages.\n",
       "\n",
       "   9. Accepting Warranty or Additional Liability. While redistributing\n",
       "      the Work or Derivative Works thereof, You may choose to offer,\n",
       "      and charge a fee for, acceptance of support, warranty, indemnity,\n",
       "      or other liability obligations and/or rights consistent with this\n",
       "      License. However, in accepting such obligations, You may act only\n",
       "      on Your own behalf and on Your sole responsibility, not on behalf\n",
       "      of any other Contributor, and only if You agree to indemnify,\n",
       "      defend, and hold each Contributor harmless for any liability\n",
       "      incurred by, or claims asserted against, such Contributor by reason\n",
       "      of your accepting any such warranty or additional liability.\n",
       "\n",
       "   END OF TERMS AND CONDITIONS\n",
       "\n",
       "   APPENDIX: How to apply the Apache License to your work.\n",
       "\n",
       "      To apply the Apache License to your work, attach the following\n",
       "      boilerplate notice, with the fields enclosed by brackets \"{}\"\n",
       "      replaced with your own identifying information. (Don't include\n",
       "      the brackets!)  The text should be enclosed in the appropriate\n",
       "      comment syntax for the file format. We also recommend that a\n",
       "      file or class name and description of purpose be included on the\n",
       "      same \"printed page\" as the copyright notice for easier\n",
       "      identification within third-party archives.\n",
       "\n",
       "   Copyright {yyyy} {name of copyright owner}\n",
       "\n",
       "   Licensed under the Apache License, Version 2.0 (the \"License\");\n",
       "   you may not use this file except in compliance with the License.\n",
       "   You may obtain a copy of the License at\n",
       "\n",
       "       http://www.apache.org/licenses/LICENSE-2.0\n",
       "\n",
       "   Unless required by applicable law or agreed to in writing, software\n",
       "   distributed under the License is distributed on an \"AS IS\" BASIS,\n",
       "   WITHOUT WARRANTIES OR CONDITIONS OF ANY KIND, either express or implied.\n",
       "   See the License for the specific language governing permissions and\n",
       "   limitations under the License.\n",
       "-->\n",
       "\n",
       "\n",
       "\n",
       "\n"
      ],
      "text/plain": [
       "<IPython.core.display.HTML object>"
      ]
     },
     "execution_count": 74,
     "metadata": {},
     "output_type": "execute_result"
    }
   ],
   "source": [
    "from IPython.display import HTML\n",
    "HTML(open(\"input.html\").read())"
   ]
  },
  {
   "cell_type": "code",
   "execution_count": 75,
   "metadata": {},
   "outputs": [
    {
     "ename": "NameError",
     "evalue": "name 'data' is not defined",
     "output_type": "error",
     "traceback": [
      "\u001b[0;31m---------------------------------------------------------------------------\u001b[0m",
      "\u001b[0;31mNameError\u001b[0m                                 Traceback (most recent call last)",
      "\u001b[0;32m<ipython-input-75-0859078cdc7f>\u001b[0m in \u001b[0;36m<module>\u001b[0;34m()\u001b[0m\n\u001b[0;32m----> 1\u001b[0;31m \u001b[0mresponse\u001b[0m \u001b[0;34m=\u001b[0m \u001b[0mpredictor\u001b[0m\u001b[0;34m.\u001b[0m\u001b[0mpredict\u001b[0m\u001b[0;34m(\u001b[0m\u001b[0mdata\u001b[0m\u001b[0;34m)\u001b[0m\u001b[0;34m\u001b[0m\u001b[0m\n\u001b[0m\u001b[1;32m      2\u001b[0m \u001b[0mprint\u001b[0m\u001b[0;34m(\u001b[0m\u001b[0;34m'Raw prediction result:'\u001b[0m\u001b[0;34m)\u001b[0m\u001b[0;34m\u001b[0m\u001b[0m\n\u001b[1;32m      3\u001b[0m \u001b[0mprint\u001b[0m\u001b[0;34m(\u001b[0m\u001b[0mresponse\u001b[0m\u001b[0;34m)\u001b[0m\u001b[0;34m\u001b[0m\u001b[0m\n\u001b[1;32m      4\u001b[0m \u001b[0;34m\u001b[0m\u001b[0m\n\u001b[1;32m      5\u001b[0m \u001b[0mlabeled_predictions\u001b[0m \u001b[0;34m=\u001b[0m \u001b[0mlist\u001b[0m\u001b[0;34m(\u001b[0m\u001b[0mzip\u001b[0m\u001b[0;34m(\u001b[0m\u001b[0mrange\u001b[0m\u001b[0;34m(\u001b[0m\u001b[0;36m10\u001b[0m\u001b[0;34m)\u001b[0m\u001b[0;34m,\u001b[0m \u001b[0mresponse\u001b[0m\u001b[0;34m[\u001b[0m\u001b[0;36m0\u001b[0m\u001b[0;34m]\u001b[0m\u001b[0;34m)\u001b[0m\u001b[0;34m)\u001b[0m\u001b[0;34m\u001b[0m\u001b[0m\n",
      "\u001b[0;31mNameError\u001b[0m: name 'data' is not defined"
     ]
    }
   ],
   "source": [
    "response = predictor.predict(data)\n",
    "print('Raw prediction result:')\n",
    "print(response)\n",
    "\n",
    "labeled_predictions = list(zip(range(10), response[0]))\n",
    "print('Labeled predictions: ')\n",
    "print(labeled_predictions)\n",
    "\n",
    "labeled_predictions.sort(key=lambda label_and_prob: 1.0 - label_and_prob[1])\n",
    "print('Most likely answer: {}'.format(labeled_predictions[0]))"
   ]
  },
  {
   "cell_type": "markdown",
   "metadata": {},
   "source": [
    "Now we can use the ``predictor`` object to classify the handwritten digit:"
   ]
  },
  {
   "cell_type": "markdown",
   "metadata": {
    "collapsed": true
   },
   "source": [
    "# (Optional) Delete the Endpoint\n",
    "\n",
    "After you have finished with this example, remember to delete the prediction endpoint to release the instance(s) associated with it."
   ]
  },
  {
   "cell_type": "code",
   "execution_count": 56,
   "metadata": {},
   "outputs": [
    {
     "name": "stdout",
     "output_type": "stream",
     "text": [
      "Endpoint name: sagemaker-mxnet-py2-cpu-2018-03-09-05-24-53-301\n"
     ]
    }
   ],
   "source": [
    "print(\"Endpoint name: \" + predictor.endpoint)"
   ]
  },
  {
   "cell_type": "code",
   "execution_count": 57,
   "metadata": {},
   "outputs": [
    {
     "name": "stderr",
     "output_type": "stream",
     "text": [
      "INFO:sagemaker:Deleting endpoint with name: sagemaker-mxnet-py2-cpu-2018-03-09-05-24-53-301\n"
     ]
    }
   ],
   "source": [
    "import sagemaker\n",
    "\n",
    "sagemaker.Session().delete_endpoint(predictor.endpoint)"
   ]
  },
  {
   "cell_type": "code",
   "execution_count": null,
   "metadata": {
    "collapsed": true
   },
   "outputs": [],
   "source": []
  }
 ],
 "metadata": {
  "kernelspec": {
   "display_name": "conda_mxnet_p36",
   "language": "python",
   "name": "conda_mxnet_p36"
  },
  "language_info": {
   "codemirror_mode": {
    "name": "ipython",
    "version": 3
   },
   "file_extension": ".py",
   "mimetype": "text/x-python",
   "name": "python",
   "nbconvert_exporter": "python",
   "pygments_lexer": "ipython3",
   "version": "3.6.2"
  },
  "notice": "Copyright 2017 Amazon.com, Inc. or its affiliates. All Rights Reserved.  Licensed under the Apache License, Version 2.0 (the \"License\"). You may not use this file except in compliance with the License. A copy of the License is located at http://aws.amazon.com/apache2.0/ or in the \"license\" file accompanying this file. This file is distributed on an \"AS IS\" BASIS, WITHOUT WARRANTIES OR CONDITIONS OF ANY KIND, either express or implied. See the License for the specific language governing permissions and limitations under the License."
 },
 "nbformat": 4,
 "nbformat_minor": 2
}
